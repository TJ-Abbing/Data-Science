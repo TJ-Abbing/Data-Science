{
 "cells": [
  {
   "cell_type": "markdown",
   "metadata": {},
   "source": [
    "DataFrame Operations"
   ]
  },
  {
   "cell_type": "code",
   "execution_count": null,
   "metadata": {},
   "outputs": [],
   "source": [
    "# Ìmport the pandas library and assign the dataset a variable.\n",
    "import pandas as pd\n",
    "file_path = 'data/netherlands_IT_salaries_15.xlsx'\n",
    "df = pd.read_excel(file_path)"
   ]
  },
  {
   "cell_type": "code",
   "execution_count": null,
   "metadata": {},
   "outputs": [],
   "source": [
    "# Add a new column named ‘Bonus’ with values calculated by ‘Experience’ column values multiplied by 2.\n",
    "df_mod = df.copy()\n",
    "df_mod['Bonus'] = df_mod['Experience'] * 2\n",
    "df_mod"
   ]
  },
  {
   "cell_type": "code",
   "execution_count": null,
   "metadata": {},
   "outputs": [],
   "source": [
    "# Delete the newly created column 'Bonus' from the DataFrame.\n",
    "df_mod.drop(columns=['Bonus'], inplace=True)\n",
    "df_mod"
   ]
  },
  {
   "cell_type": "code",
   "execution_count": null,
   "metadata": {},
   "outputs": [],
   "source": [
    "# Delete the employee with ‘Role’ as ‘Helpdeskmanager’ from the DataFrame.\n",
    "df_mod = df.copy()\n",
    "df_mod.drop(df[df['Role'] == 'Helpdeskmanager'].index, inplace=True)\n",
    "df_mod"
   ]
  },
  {
   "cell_type": "code",
   "execution_count": null,
   "metadata": {},
   "outputs": [],
   "source": [
    "# Modify the ‘Salary’ of the employee in ‘Amsterdam’ to 20% more.\n",
    "df_mod = df.copy()\n",
    "df_mod.loc[df['City'] == 'Amsterdam', 'Salary'] = df['Salary'] * 1.2\n",
    "df_mod"
   ]
  },
  {
   "cell_type": "markdown",
   "metadata": {},
   "source": [
    "Selecting / Filtering"
   ]
  },
  {
   "cell_type": "code",
   "execution_count": null,
   "metadata": {},
   "outputs": [],
   "source": [
    "# Select and show only the employees (rows) with ‘Experience’ greater than 5 years.\n",
    "df_mod = df.copy()\n",
    "df_mod = df_mod.loc[df_mod['Experience'] > 5]\n",
    "df_mod"
   ]
  },
  {
   "cell_type": "code",
   "execution_count": null,
   "metadata": {},
   "outputs": [],
   "source": [
    "# Select and show only the employees (rows) with ‘Salary’ less than 4000.\n",
    "df_mod = df.copy()\n",
    "df_mod = df_mod.loc[df_mod['Salary'] > 4000]\n",
    "df_mod"
   ]
  },
  {
   "cell_type": "code",
   "execution_count": null,
   "metadata": {},
   "outputs": [],
   "source": [
    "# Select and show only the employees (rows) who are ‘Product Owner’.\n",
    "df_mod = df.copy()\n",
    "df_mod = df_mod.loc[df_mod['Role'] == 'Product Owner']\n",
    "df_mod"
   ]
  },
  {
   "cell_type": "code",
   "execution_count": null,
   "metadata": {},
   "outputs": [],
   "source": [
    "# Select and show only the employees (rows) who have a ‘HBO’ education.\n",
    "df_mod = df.copy()\n",
    "df_mod = df_mod.loc[df_mod['Education'] == 'HBO']\n",
    "df_mod"
   ]
  },
  {
   "cell_type": "code",
   "execution_count": null,
   "metadata": {},
   "outputs": [],
   "source": [
    "# Select and show only the employees (rows) who are not in ‘Amsterdam’.\n",
    "df_mod = df.copy()\n",
    "df_mod = df_mod.loc[df_mod['City'] == 'Amsterdam']\n",
    "df_mod"
   ]
  },
  {
   "cell_type": "markdown",
   "metadata": {},
   "source": [
    "Advanced Conditional Selection"
   ]
  },
  {
   "cell_type": "code",
   "execution_count": null,
   "metadata": {},
   "outputs": [],
   "source": [
    "# Select and show rows where ‘Salary’ is between 4000 and 5000.\n",
    "df_mod = df.copy()\n",
    "df_mod = df_mod.loc[(df_mod['Salary'] >= 4000) & (df_mod['Salary'] < 5000)]\n",
    "df_mod"
   ]
  },
  {
   "cell_type": "code",
   "execution_count": null,
   "metadata": {},
   "outputs": [],
   "source": [
    "# Select and show rows where ‘Role’ is either ‘Product Owner’ or ‘IT Consultant’.\n",
    "df_mod = df.copy()\n",
    "df_mod = df_mod.loc[(df_mod['Role'] == 'Product Owner') | (df_mod['Role'] == 'IT Consultant')]\n",
    "df_mod"
   ]
  },
  {
   "cell_type": "code",
   "execution_count": null,
   "metadata": {},
   "outputs": [],
   "source": [
    "# Select and show rows where ‘City’ is ‘Amsterdam’ and ‘Experience’ is less than 10 years, or ‘City’ is ‘Rotterdam’.\n",
    "df_mod = df.copy()\n",
    "df_mod = df_mod.loc[(df_mod['City'] == 'Amsterdam') & (df_mod['Experience'] < 10)]\n",
    "df_mod"
   ]
  },
  {
   "cell_type": "code",
   "execution_count": null,
   "metadata": {},
   "outputs": [],
   "source": [
    "# Select and show rows where ‘Role’ is ‘Product Owner’ and ‘Experience’ is greater than 5 or ‘Salary’ is greater than 4500.\n",
    "df_mod = df.copy()\n",
    "df_mod = df_mod.loc[(df_mod['Role'] == 'Product Owner') & (df_mod['Experience'] > 5) | (df_mod['Salary'] > 4500 )]\n",
    "df_mod"
   ]
  },
  {
   "cell_type": "code",
   "execution_count": null,
   "metadata": {},
   "outputs": [],
   "source": [
    "# Select and show rows where ‘Education’ is ‘MBO’ and ‘City’ is not ‘Apeldoorn’ or ‘Experience’ is less than 8.\n",
    "df_mod = df.copy()\n",
    "df_mod = df_mod.loc[(df_mod['Education'] == 'MBO') & (df_mod['City'] != 'Apeldoorn') | (df_mod['Experience'] < 8)]\n",
    "df_mod"
   ]
  }
 ],
 "metadata": {
  "kernelspec": {
   "display_name": "base",
   "language": "python",
   "name": "python3"
  },
  "language_info": {
   "codemirror_mode": {
    "name": "ipython",
    "version": 3
   },
   "file_extension": ".py",
   "mimetype": "text/x-python",
   "name": "python",
   "nbconvert_exporter": "python",
   "pygments_lexer": "ipython3",
   "version": "3.11.5"
  }
 },
 "nbformat": 4,
 "nbformat_minor": 2
}
