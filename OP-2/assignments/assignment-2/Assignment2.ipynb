{
 "cells": [
  {
   "cell_type": "markdown",
   "id": "f43a5b60",
   "metadata": {},
   "source": [
    "## Import necessary libraries"
   ]
  },
  {
   "cell_type": "code",
   "execution_count": null,
   "id": "9af52fea",
   "metadata": {},
   "outputs": [],
   "source": [
    "# Imports.\n",
    "\n",
    "import pandas as pd\n",
    "import numpy as np\n",
    "import matplotlib.pyplot as plt"
   ]
  },
  {
   "cell_type": "markdown",
   "id": "ebd66829",
   "metadata": {},
   "source": [
    "## Data Loading and Inspection"
   ]
  },
  {
   "cell_type": "markdown",
   "id": "eea300b3",
   "metadata": {},
   "source": [
    "### Dataset information"
   ]
  },
  {
   "cell_type": "raw",
   "id": "a55ed694",
   "metadata": {},
   "source": [
    "1) age: Age of the patient.\n",
    "\n",
    "2) sex:\n",
    "    0: Female\n",
    "    1: Male\n",
    "\n",
    "3) cp (chest pain type):\n",
    "    0: Typical angina\n",
    "    1: Atypical angina\n",
    "    2: Non-anginal pain\n",
    "    3: Asymptomatic\n",
    "\n",
    "4) trestbps (resting blood pressure): Resting blood pressure (in mm Hg) on admission to the hospital.\n",
    "\n",
    "5) chol (serum cholesterol): Serum cholesterol level (in mg/dl).\n",
    "\n",
    "6) fbs (fasting blood sugar):\n",
    "    0: Fasting blood sugar < 120 mg/dl\n",
    "    1: Fasting blood sugar > 120 mg/dl\n",
    "    \n",
    "7) restecg (resting electrocardiographic results):\n",
    "    0: Normal\n",
    "    1: Having ST-T wave abnormality\n",
    "    2: Showing probable or definite left ventricular hypertrophy by Estes' criteria\n",
    "\n",
    "8) thalach (maximum heart rate achieved): Maximum heart rate achieved during the exercise test.\n",
    "\n",
    "9) exang (exercise-induced angina):\n",
    "    0: No\n",
    "    1: Yes\n",
    "\n",
    "10) oldpeak (ST depression induced by exercise relative to rest): ST depression induced by exercise relative to rest.\n",
    "\n",
    "11) slope (slope of the peak exercise ST segment):\n",
    "    0: Upsloping\n",
    "    1: Flat\n",
    "    2: Downsloping\n",
    "    \n",
    "12) ca (number of major vessels colored by fluoroscopy): Number of major vessels (0-3) colored by fluoroscopy.\n",
    "\n",
    "13) thal (thalassemia):\n",
    "    0: Normal\n",
    "    1: Fixed defect\n",
    "    2: Reversible defect\n",
    "    \n",
    "14) target (presence or absence of heart disease):\n",
    "    0: Absence\n",
    "    1: Presence\n"
   ]
  },
  {
   "cell_type": "markdown",
   "id": "4db2e2ad",
   "metadata": {},
   "source": [
    "NOTE: \n",
    "- 1. This dataset doesn't come with column names, here I have created a list with column names and when you use read_csv function, use the proper parameter to assign the column names to the dataframe.\n",
    "\n",
    "- 2. In this dataset, besides null values, we have some columns that have '? There is a way to replace a string with a null value. Check the parameters of the read_csv function to use the appropriate parameter for this purpose."
   ]
  },
  {
   "cell_type": "code",
   "execution_count": null,
   "id": "a3813822",
   "metadata": {},
   "outputs": [],
   "source": [
    "# Download the dataset and load it into a DataFrame.\n",
    "\n",
    "# URL of the Heart Disease UCI dataset.\n",
    "url = \"https://archive.ics.uci.edu/ml/machine-learning-databases/heart-disease/processed.cleveland.data\"\n",
    "\n",
    "# Column names for the dataset.\n",
    "column_names = ['age', 'sex', 'cp', 'trestbps', 'chol', 'fbs', 'restecg', 'thalach', 'exang', 'oldpeak', 'slope', 'ca', 'thal', 'target']\n",
    "\n",
    "# Read the dataset into a pandas DataFrame.\n",
    "df = pd.read_csv(url, names=column_names)\n",
    "df"
   ]
  },
  {
   "cell_type": "code",
   "execution_count": null,
   "id": "2540c813",
   "metadata": {},
   "outputs": [],
   "source": [
    "# Drop the 'target' column\n",
    "df = df.drop(columns=['target'])\n",
    "df"
   ]
  },
  {
   "cell_type": "code",
   "execution_count": null,
   "id": "03bfae97",
   "metadata": {},
   "outputs": [],
   "source": [
    "# Display df info.\n",
    "df.info()"
   ]
  },
  {
   "cell_type": "markdown",
   "id": "95e0126f",
   "metadata": {},
   "source": [
    "## Data Cleaning"
   ]
  },
  {
   "cell_type": "code",
   "execution_count": null,
   "id": "c264cf77",
   "metadata": {},
   "outputs": [],
   "source": [
    "# Handle missing values.\n",
    "# Remove rows with missing values.\n",
    "df = df.dropna()\n",
    "df"
   ]
  },
  {
   "cell_type": "code",
   "execution_count": null,
   "id": "50da9a42",
   "metadata": {},
   "outputs": [],
   "source": [
    "# Check for and handle duplicates.\n",
    "\n",
    "# Find the duplicate rows.\n",
    "duplicates = df[df.duplicated()]\n",
    "# Display the duplicate rows.\n",
    "duplicates"
   ]
  },
  {
   "cell_type": "code",
   "execution_count": null,
   "id": "3cae188a",
   "metadata": {},
   "outputs": [],
   "source": [
    "# Display df info.\n",
    "df.info()"
   ]
  },
  {
   "cell_type": "markdown",
   "id": "7f608166",
   "metadata": {},
   "source": [
    "## Data Manipulation"
   ]
  },
  {
   "cell_type": "code",
   "execution_count": null,
   "id": "c2491675",
   "metadata": {},
   "outputs": [],
   "source": [
    "# Create 'AgeGroup' column\n",
    "bins = [29, 45, 60, 77]\n",
    "labels = ['Young', 'Middle-aged', 'Senior']\n",
    "df['AgeGroup'] = pd.cut(df['age'], bins=bins, labels=labels)\n",
    "df"
   ]
  },
  {
   "cell_type": "code",
   "execution_count": null,
   "id": "aabc1f87",
   "metadata": {},
   "outputs": [],
   "source": [
    "# Create a new feature 'HeartHealth' using the 'apply' function\n",
    "# Conditions: Good if thalach > 150 and chol < 240, Poor otherwise\n",
    "def heart_health(row):\n",
    "    if row['thalach'] > 150 and row['chol'] < 240 :\n",
    "        return 'Good'\n",
    "    else:\n",
    "        return 'Poor'"
   ]
  },
  {
   "cell_type": "code",
   "execution_count": null,
   "id": "c2a0e49d",
   "metadata": {},
   "outputs": [],
   "source": [
    "# Create 'RiskFactor' column\n",
    "# formula: age * chol + thalach\n",
    "\n",
    "# TODO"
   ]
  },
  {
   "cell_type": "code",
   "execution_count": null,
   "id": "6209dfca",
   "metadata": {},
   "outputs": [],
   "source": [
    "df"
   ]
  },
  {
   "cell_type": "markdown",
   "id": "0038f0f0",
   "metadata": {},
   "source": [
    "## Data Visualization"
   ]
  },
  {
   "cell_type": "markdown",
   "id": "62923abb",
   "metadata": {},
   "source": [
    "### 1. Line Plot"
   ]
  },
  {
   "cell_type": "markdown",
   "id": "5e438654",
   "metadata": {},
   "source": [
    "This line plot illustrates the average trend of Resting Blood Pressure (trestbps) across different age groups.\n",
    "- X-Axis: Age\n",
    "- Y-Axis: Average Resting Blood Pressure\n",
    "\n",
    "The line represents the average Resting Blood Pressure at different ages.\n",
    "\n",
    "The marker 'o' indicates individual data points.\n",
    "\n",
    "The plot provides insight into how the average Resting Blood Pressure changes with increasing age."
   ]
  },
  {
   "cell_type": "code",
   "execution_count": null,
   "id": "f9ab1620",
   "metadata": {
    "scrolled": true
   },
   "outputs": [],
   "source": [
    "# Line plot - Trend of 'trestbps' over 'age'\n",
    "\n",
    "# TODO"
   ]
  },
  {
   "cell_type": "markdown",
   "id": "0c9e9917",
   "metadata": {},
   "source": [
    "### 2. Scatter Plot"
   ]
  },
  {
   "cell_type": "markdown",
   "id": "b119b798",
   "metadata": {},
   "source": [
    "This scatter plot visually explores the relationship between Age and Risk Factor.\n",
    "- X-Axis: Age\n",
    "- Y-Axis: Risk Factor"
   ]
  },
  {
   "cell_type": "code",
   "execution_count": null,
   "id": "35e952c4",
   "metadata": {},
   "outputs": [],
   "source": [
    "# Scatter plot - Relationship between Age and Risk Factor\n",
    "\n",
    "# TODO"
   ]
  },
  {
   "cell_type": "markdown",
   "id": "e5165f5b",
   "metadata": {},
   "source": [
    "### 3. Bar Plot"
   ]
  },
  {
   "cell_type": "markdown",
   "id": "73ead7a2",
   "metadata": {},
   "source": [
    "This stacked bar plot represents the distribution of HeartHealth (Good or Poor) within each Age group.\n",
    "- X-Axis: Age Group\n",
    "- Y-Axis: Count"
   ]
  },
  {
   "cell_type": "code",
   "execution_count": null,
   "id": "c418fc49",
   "metadata": {},
   "outputs": [],
   "source": [
    "# Bar plot - HeartHealth distribution within each Age group\n",
    "\n",
    "# TODO"
   ]
  },
  {
   "cell_type": "markdown",
   "id": "320411b6",
   "metadata": {},
   "source": [
    "### 4. Histogram Plot"
   ]
  },
  {
   "cell_type": "markdown",
   "id": "222ab31a",
   "metadata": {},
   "source": [
    "This histogram visually displays the distribution of patient ages in the dataset.\n",
    "- X-Axis: Age\n",
    "- Y-Axis: Frequency (Number of individuals)\n",
    "\n",
    "The histogram provides a visual representation of how patient ages are distributed in the dataset.\n",
    "The 'skyblue' color represents the bars, and each bar corresponds to an age group.\n",
    "\n",
    "The number of bins (20) determines the granularity of the age distribution."
   ]
  },
  {
   "cell_type": "code",
   "execution_count": null,
   "id": "c3cce43a",
   "metadata": {},
   "outputs": [],
   "source": [
    "# Histogram - Distribution of patient ages\n",
    "\n",
    "# TODO"
   ]
  },
  {
   "cell_type": "markdown",
   "id": "1fb9dfc9",
   "metadata": {},
   "source": [
    "### 5. Pie Chart"
   ]
  },
  {
   "cell_type": "markdown",
   "id": "4671e56a",
   "metadata": {},
   "source": [
    "This pie chart visually represents the percentage distribution of individuals across different age groups.\n",
    "\n",
    "- Each slice of the pie corresponds to a specific age group (Young, Middle-aged, Senior).\n",
    "- The 'skyblue,' 'orange,' and 'lightgreen' colors distinguish between the age groups.\n",
    "- The percentage labels on each slice indicate the proportion of individuals in each age category relative to the total.\n",
    "- The startangle parameter (90 degrees) adjusts the starting position of the first slice."
   ]
  },
  {
   "cell_type": "code",
   "execution_count": null,
   "id": "e212e6d4",
   "metadata": {},
   "outputs": [],
   "source": [
    "# Pie cahr - Percentage Distribution of Age Groups\n",
    "\n",
    "# TODO"
   ]
  },
  {
   "cell_type": "markdown",
   "id": "f509edc7",
   "metadata": {},
   "source": [
    "### 6. Box Plot"
   ]
  },
  {
   "cell_type": "markdown",
   "id": "7f72c3ab",
   "metadata": {},
   "source": [
    "This box plot visually represents the distribution of Maximum Heart Rate (thalach) for different chest pain types.\n",
    "- X-Axis: Chest Pain Type\n",
    "- Y-Axis: Maximum Heart Rate\n",
    "\n",
    "The box plot shows the central tendency and spread of Maximum Heart Rate for each chest pain type.\n",
    "\n",
    "Chest pain types are labeled on the x-axis, and the y-axis represents Maximum Heart Rate values.\n",
    "\n",
    "The boxes indicate the interquartile range (IQR), while the horizontal line inside the box represents the median."
   ]
  },
  {
   "cell_type": "code",
   "execution_count": null,
   "id": "f37e52b6",
   "metadata": {},
   "outputs": [],
   "source": [
    "# Box plot - Distribution of 'thalach' for different chest pain types\n",
    "\n",
    "# TODO"
   ]
  },
  {
   "cell_type": "markdown",
   "id": "0a058992",
   "metadata": {},
   "source": [
    "## 7. Multiple plot"
   ]
  },
  {
   "cell_type": "raw",
   "id": "96804033",
   "metadata": {},
   "source": [
    "Below is a detailed description for each subplot along with what you should look for in the visualizations:\n",
    "\n",
    "Subplot 1: Distribution of Age\n",
    "Description: This histogram represents the distribution of ages in the dataset.\n",
    "- Axes:\n",
    "    X-Axis: Age\n",
    "    Y-Axis: Count\n",
    "\n",
    "Subplot 2: Ddistribution of Heart Health within the dataset.\n",
    "Description: The bar plot shows the count of individuals classified into different Heart Health categories (e.g., Good or Poor).\n",
    "- Axes:\n",
    "    X-Axis: Heart Health categories\n",
    "    Y-Axis: Count of individuals\n",
    "\n",
    "\n",
    "Subplot 3: Cholesterol Distribution Within Each Age Group (Box Plot)\n",
    "Description: This box plot visualizes the distribution of Cholesterol (chol) within each Age group.\n",
    "- Axes:\n",
    "    X-Axis: Age Group\n",
    "    Y-Axis: Cholesterol (chol)\n",
    "\n",
    "Subplot 4: Scatter Plot of Cholesterol vs Maximum Heart Rate\n",
    "Description: This scatter plot displays the relationship between Cholesterol (chol) and Maximum Heart Rate (thalach).\n",
    "- Axes:\n",
    "    X-Axis: Cholesterol (chol)\n",
    "    Y-Axis: Maximum Heart Rate (thalach)"
   ]
  },
  {
   "cell_type": "code",
   "execution_count": null,
   "id": "49b0b6f5",
   "metadata": {},
   "outputs": [],
   "source": [
    "# Data Visualization with fig, ax syntax\n",
    "\n",
    "# TODO"
   ]
  },
  {
   "cell_type": "code",
   "execution_count": null,
   "id": "02757623",
   "metadata": {},
   "outputs": [],
   "source": []
  }
 ],
 "metadata": {
  "kernelspec": {
   "display_name": "Python 3 (ipykernel)",
   "language": "python",
   "name": "python3"
  },
  "language_info": {
   "codemirror_mode": {
    "name": "ipython",
    "version": 3
   },
   "file_extension": ".py",
   "mimetype": "text/x-python",
   "name": "python",
   "nbconvert_exporter": "python",
   "pygments_lexer": "ipython3",
   "version": "3.11.5"
  }
 },
 "nbformat": 4,
 "nbformat_minor": 5
}
