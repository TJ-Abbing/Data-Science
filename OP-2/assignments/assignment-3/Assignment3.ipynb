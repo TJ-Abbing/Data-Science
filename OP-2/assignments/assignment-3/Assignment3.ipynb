{
 "cells": [
  {
   "cell_type": "markdown",
   "id": "dbc42781",
   "metadata": {},
   "source": [
    "# Assignment 3: Adult Income Prediction"
   ]
  },
  {
   "cell_type": "markdown",
   "id": "8a0a143c",
   "metadata": {},
   "source": [
    "- Dataset: Adult Income Dataset from the UCI Machine Learning Repository\n",
    "\n",
    "This dataset contains various attributes of individuals, and the task is to predict whether a person earns more than $50,000 per year.\n",
    "\n",
    "https://archive.ics.uci.edu/dataset/2/adult"
   ]
  },
  {
   "cell_type": "markdown",
   "id": "32594312",
   "metadata": {},
   "source": [
    "## Tasks:"
   ]
  },
  {
   "cell_type": "markdown",
   "id": "fdd103fd",
   "metadata": {},
   "source": [
    "### 1. Data Loading and Initial Exploration:"
   ]
  },
  {
   "cell_type": "raw",
   "id": "1bf45c22",
   "metadata": {},
   "source": [
    "- Load the dataset into a Pandas DataFrame.\n",
    "- Display basic information about the dataset."
   ]
  },
  {
   "cell_type": "code",
   "execution_count": null,
   "id": "9fbf406a",
   "metadata": {},
   "outputs": [],
   "source": [
    "import pandas as pd\n",
    "import matplotlib.pyplot as plt\n",
    "\n",
    "# Load the Adult Income dataset.\n",
    "url = 'https://archive.ics.uci.edu/ml/machine-learning-databases/adult/adult.data'\n",
    "\n",
    "column_names = ['age', 'workclass', 'fnlwgt', 'education', 'education-num', 'marital-status',\n",
    "                'occupation', 'relationship', 'race', 'sex', 'capital-gain', 'capital-loss',\n",
    "                'hours-per-week', 'native-country', 'income']\n",
    "\n",
    "df = pd.read_csv(url, names=column_names, skipinitialspace=True)\n",
    "df"
   ]
  },
  {
   "cell_type": "code",
   "execution_count": null,
   "id": "548ea6ed",
   "metadata": {},
   "outputs": [],
   "source": [
    "# Display basic information about the dataset.\n",
    "\n",
    "df.info()"
   ]
  },
  {
   "cell_type": "markdown",
   "id": "2a874334",
   "metadata": {},
   "source": [
    "### 2. Data Preparation:"
   ]
  },
  {
   "cell_type": "markdown",
   "id": "2b990b0a",
   "metadata": {},
   "source": [
    "#### - This dataset has missing data that is filled with '?' where the data is missing. To better handle missing data, replace it with a null value and then drop it."
   ]
  },
  {
   "cell_type": "code",
   "execution_count": null,
   "id": "68f2ac22",
   "metadata": {},
   "outputs": [],
   "source": [
    "# Identify and handle missing values. Identify missing values.\n",
    "df.isnull().sum()\n",
    "\n",
    "# Handle missing values. Replace '?' with NaN for better handling.\n",
    "import numpy as np\n",
    "df = df.replace('?', np.NaN)\n",
    "\n",
    "# Display basic info.\n",
    "df.info()"
   ]
  },
  {
   "cell_type": "code",
   "execution_count": null,
   "id": "1b30633c",
   "metadata": {},
   "outputs": [],
   "source": [
    "# Drop rows with missing values.\n",
    "df = df.dropna()\n",
    "\n",
    "# Display basic info.\n",
    "df.info()"
   ]
  },
  {
   "cell_type": "markdown",
   "id": "bdad3667",
   "metadata": {},
   "source": [
    "### 3. Feature Engineering:"
   ]
  },
  {
   "cell_type": "markdown",
   "id": "3040f2f0",
   "metadata": {},
   "source": [
    "#### NOTE: Before doing this task, make sure that you read the post that I wrote in the channel about Dummy Encoding. Watch the videos and check the Jupyter file to see a simple example."
   ]
  },
  {
   "cell_type": "code",
   "execution_count": null,
   "id": "93534630",
   "metadata": {},
   "outputs": [],
   "source": [
    "# Encode categorical variables using dummy encoding.\n",
    "df_encoded = pd.get_dummies(df, columns=['workclass', 'education', 'marital-status', 'occupation', 'relationship', 'race', 'sex', 'native-country'])\n",
    "\n",
    "# Identify the newly created dummy columns.\n",
    "dummy_columns = [col for col in df_encoded.columns if '_' in col]\n",
    "\n",
    "# Convert the dummy columns to integers.\n",
    "df_encoded[dummy_columns] = df_encoded[dummy_columns].astype(int)\n",
    "\n",
    "# Assign new df to original df.\n",
    "df = df_encoded\n",
    "\n",
    "# Display the updated DataFrame.\n",
    "df.head()"
   ]
  },
  {
   "cell_type": "markdown",
   "id": "e46a2076",
   "metadata": {},
   "source": [
    "### 4. Exploratory Data Analysis (EDA):"
   ]
  },
  {
   "cell_type": "raw",
   "id": "9eea23f2",
   "metadata": {},
   "source": [
    "- Create visualizations to explore the relationships between demographic factors and income.\n",
    "- Analyze the distribution of income categories."
   ]
  },
  {
   "cell_type": "code",
   "execution_count": null,
   "id": "72b67e20",
   "metadata": {},
   "outputs": [],
   "source": [
    "# Explore age distribution by income.\n",
    "\n",
    "# TODO"
   ]
  },
  {
   "cell_type": "code",
   "execution_count": null,
   "id": "9f1e1549",
   "metadata": {},
   "outputs": [],
   "source": [
    "# Analyze the distribution of income categories.\n",
    "\n",
    "# TODO"
   ]
  },
  {
   "cell_type": "markdown",
   "id": "97931b43",
   "metadata": {},
   "source": [
    "### 5. Model Training:"
   ]
  },
  {
   "cell_type": "raw",
   "id": "b183c28f",
   "metadata": {},
   "source": [
    "- Import necessary libraries for model training and evaluation\n",
    "- Split the dataset into training and testing sets.\n",
    "- Try these supervised learning algorithms (logistic regression, decision tree, random forest and SVM) and train a model to predict income.\n",
    "- Evaluate the performance of the models using accuracy."
   ]
  },
  {
   "cell_type": "markdown",
   "id": "790fd8e6",
   "metadata": {},
   "source": [
    "#### Note: \n",
    "1. It's a good practice to try multiple algorithms and compare their performance using appropriate evaluation metrics.\n",
    "2. Your accuracy may differ from the one you see here according to your data splitting and using the random_state parameter."
   ]
  },
  {
   "cell_type": "code",
   "execution_count": null,
   "id": "b2ebd439",
   "metadata": {},
   "outputs": [],
   "source": [
    "# Import necessary libraries for model training.\n",
    "\n",
    "# TODO\n",
    "\n",
    "\n",
    "# Split the dataset into features (X) and target variable (y).\n",
    "\n",
    "# TODO\n",
    "\n",
    "\n",
    "# Split the data into training and testing sets.\n",
    "\n",
    "# TODO"
   ]
  },
  {
   "cell_type": "code",
   "execution_count": null,
   "id": "847fcbef",
   "metadata": {},
   "outputs": [],
   "source": [
    "# Train a Logistic Regression model.\n",
    "\n",
    "# TODO\n",
    "\n",
    "\n",
    "# Make predictions.\n",
    "\n",
    "# TODO\n"
   ]
  },
  {
   "cell_type": "code",
   "execution_count": null,
   "id": "176f692d",
   "metadata": {},
   "outputs": [],
   "source": [
    "# Evaluate the performance of the model using accuracy.\n",
    "\n",
    "# TODO"
   ]
  },
  {
   "cell_type": "code",
   "execution_count": null,
   "id": "e9d8b86a",
   "metadata": {},
   "outputs": [],
   "source": [
    "# Train a Decision Tree model.\n",
    "\n",
    "# TODO\n",
    "\n",
    "\n",
    "# Make predictions.\n",
    "\n",
    "# TODO"
   ]
  },
  {
   "cell_type": "code",
   "execution_count": null,
   "id": "dc9c65f9",
   "metadata": {},
   "outputs": [],
   "source": [
    "# Evaluate the performance of the model using accuracy.\n",
    "\n",
    "# TODO"
   ]
  },
  {
   "cell_type": "code",
   "execution_count": null,
   "id": "ffc225f1",
   "metadata": {},
   "outputs": [],
   "source": [
    "# Train a Random Forest classifier.\n",
    "\n",
    "# TODO\n",
    "\n",
    "\n",
    "# Make predictions on the test set.\n",
    "\n",
    "# TODO"
   ]
  },
  {
   "cell_type": "code",
   "execution_count": null,
   "id": "6bf39e10",
   "metadata": {},
   "outputs": [],
   "source": [
    "# Evaluate the performance of the model using accuracy.\n",
    "\n",
    "# TODO"
   ]
  },
  {
   "cell_type": "code",
   "execution_count": null,
   "id": "7349903e",
   "metadata": {},
   "outputs": [],
   "source": [
    "# Train a SVM model.\n",
    "\n",
    "# TODO\n",
    "\n",
    "\n",
    "# Make predictions.\n",
    "\n",
    "# TODO"
   ]
  },
  {
   "cell_type": "code",
   "execution_count": null,
   "id": "fd2822e5",
   "metadata": {},
   "outputs": [],
   "source": [
    "# Evaluate the performance of the model using accuracy.\n",
    "\n",
    "# TODO"
   ]
  },
  {
   "cell_type": "markdown",
   "id": "806f2fb6",
   "metadata": {},
   "source": [
    "### Additional Notes:"
   ]
  },
  {
   "cell_type": "markdown",
   "id": "9a986afb",
   "metadata": {},
   "source": [
    "- You are encouraged to experiment with different features, algorithms, and hyperparameters to improve model performance."
   ]
  },
  {
   "cell_type": "code",
   "execution_count": null,
   "id": "606ced7d",
   "metadata": {},
   "outputs": [],
   "source": []
  }
 ],
 "metadata": {
  "kernelspec": {
   "display_name": "Python 3 (ipykernel)",
   "language": "python",
   "name": "python3"
  },
  "language_info": {
   "codemirror_mode": {
    "name": "ipython",
    "version": 3
   },
   "file_extension": ".py",
   "mimetype": "text/x-python",
   "name": "python",
   "nbconvert_exporter": "python",
   "pygments_lexer": "ipython3",
   "version": "3.11.5"
  }
 },
 "nbformat": 4,
 "nbformat_minor": 5
}
