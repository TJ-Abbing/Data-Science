{
 "cells": [
  {
   "cell_type": "markdown",
   "metadata": {},
   "source": [
    "# Step 1 - Data loading and initial exploration"
   ]
  },
  {
   "cell_type": "code",
   "execution_count": 148,
   "metadata": {},
   "outputs": [
    {
     "data": {
      "text/html": [
       "<div>\n",
       "<style scoped>\n",
       "    .dataframe tbody tr th:only-of-type {\n",
       "        vertical-align: middle;\n",
       "    }\n",
       "\n",
       "    .dataframe tbody tr th {\n",
       "        vertical-align: top;\n",
       "    }\n",
       "\n",
       "    .dataframe thead th {\n",
       "        text-align: right;\n",
       "    }\n",
       "</style>\n",
       "<table border=\"1\" class=\"dataframe\">\n",
       "  <thead>\n",
       "    <tr style=\"text-align: right;\">\n",
       "      <th></th>\n",
       "      <th>Age</th>\n",
       "      <th>Sex</th>\n",
       "      <th>ChestPainType</th>\n",
       "      <th>RestingBP</th>\n",
       "      <th>Cholesterol</th>\n",
       "      <th>FastingBS</th>\n",
       "      <th>RestingECG</th>\n",
       "      <th>MaxHR</th>\n",
       "      <th>ExerciseAngina</th>\n",
       "      <th>Oldpeak</th>\n",
       "      <th>ST_Slope</th>\n",
       "      <th>GeneticMarker1</th>\n",
       "      <th>GeneticMarker2</th>\n",
       "      <th>BodyWeightCategory</th>\n",
       "      <th>HeartDisease</th>\n",
       "    </tr>\n",
       "  </thead>\n",
       "  <tbody>\n",
       "    <tr>\n",
       "      <th>0</th>\n",
       "      <td>40</td>\n",
       "      <td>M</td>\n",
       "      <td>ATA</td>\n",
       "      <td>141</td>\n",
       "      <td>289</td>\n",
       "      <td>0</td>\n",
       "      <td>Normal</td>\n",
       "      <td>173</td>\n",
       "      <td>N</td>\n",
       "      <td>0.0</td>\n",
       "      <td>Up</td>\n",
       "      <td>0.046501</td>\n",
       "      <td>11560</td>\n",
       "      <td>Normal</td>\n",
       "      <td>0</td>\n",
       "    </tr>\n",
       "    <tr>\n",
       "      <th>1</th>\n",
       "      <td>49</td>\n",
       "      <td>F</td>\n",
       "      <td>NAP</td>\n",
       "      <td>158</td>\n",
       "      <td>175</td>\n",
       "      <td>0</td>\n",
       "      <td>Normal</td>\n",
       "      <td>151</td>\n",
       "      <td>N</td>\n",
       "      <td>1.0</td>\n",
       "      <td>Flat</td>\n",
       "      <td>0.619699</td>\n",
       "      <td>8575</td>\n",
       "      <td>Overweight</td>\n",
       "      <td>1</td>\n",
       "    </tr>\n",
       "    <tr>\n",
       "      <th>2</th>\n",
       "      <td>37</td>\n",
       "      <td>M</td>\n",
       "      <td>ATA</td>\n",
       "      <td>135</td>\n",
       "      <td>285</td>\n",
       "      <td>0</td>\n",
       "      <td>ST</td>\n",
       "      <td>97</td>\n",
       "      <td>N</td>\n",
       "      <td>0.0</td>\n",
       "      <td>Up</td>\n",
       "      <td>0.561993</td>\n",
       "      <td>10545</td>\n",
       "      <td>Overweight</td>\n",
       "      <td>0</td>\n",
       "    </tr>\n",
       "    <tr>\n",
       "      <th>3</th>\n",
       "      <td>48</td>\n",
       "      <td>F</td>\n",
       "      <td>ASY</td>\n",
       "      <td>140</td>\n",
       "      <td>214</td>\n",
       "      <td>0</td>\n",
       "      <td>Normal</td>\n",
       "      <td>112</td>\n",
       "      <td>Y</td>\n",
       "      <td>1.5</td>\n",
       "      <td>Flat</td>\n",
       "      <td>0.345920</td>\n",
       "      <td>10272</td>\n",
       "      <td>Obese</td>\n",
       "      <td>1</td>\n",
       "    </tr>\n",
       "    <tr>\n",
       "      <th>4</th>\n",
       "      <td>54</td>\n",
       "      <td>M</td>\n",
       "      <td>NAP</td>\n",
       "      <td>149</td>\n",
       "      <td>192</td>\n",
       "      <td>0</td>\n",
       "      <td>Normal</td>\n",
       "      <td>124</td>\n",
       "      <td>N</td>\n",
       "      <td>0.0</td>\n",
       "      <td>Up</td>\n",
       "      <td>0.315190</td>\n",
       "      <td>10368</td>\n",
       "      <td>Underweight</td>\n",
       "      <td>0</td>\n",
       "    </tr>\n",
       "    <tr>\n",
       "      <th>...</th>\n",
       "      <td>...</td>\n",
       "      <td>...</td>\n",
       "      <td>...</td>\n",
       "      <td>...</td>\n",
       "      <td>...</td>\n",
       "      <td>...</td>\n",
       "      <td>...</td>\n",
       "      <td>...</td>\n",
       "      <td>...</td>\n",
       "      <td>...</td>\n",
       "      <td>...</td>\n",
       "      <td>...</td>\n",
       "      <td>...</td>\n",
       "      <td>...</td>\n",
       "      <td>...</td>\n",
       "    </tr>\n",
       "    <tr>\n",
       "      <th>913</th>\n",
       "      <td>45</td>\n",
       "      <td>M</td>\n",
       "      <td>TA</td>\n",
       "      <td>106</td>\n",
       "      <td>268</td>\n",
       "      <td>0</td>\n",
       "      <td>Normal</td>\n",
       "      <td>135</td>\n",
       "      <td>N</td>\n",
       "      <td>1.2</td>\n",
       "      <td>Flat</td>\n",
       "      <td>0.125356</td>\n",
       "      <td>12060</td>\n",
       "      <td>Normal</td>\n",
       "      <td>1</td>\n",
       "    </tr>\n",
       "    <tr>\n",
       "      <th>914</th>\n",
       "      <td>68</td>\n",
       "      <td>M</td>\n",
       "      <td>ASY</td>\n",
       "      <td>142</td>\n",
       "      <td>190</td>\n",
       "      <td>1</td>\n",
       "      <td>Normal</td>\n",
       "      <td>141</td>\n",
       "      <td>N</td>\n",
       "      <td>3.4</td>\n",
       "      <td>Flat</td>\n",
       "      <td>0.336965</td>\n",
       "      <td>12920</td>\n",
       "      <td>Overweight</td>\n",
       "      <td>1</td>\n",
       "    </tr>\n",
       "    <tr>\n",
       "      <th>915</th>\n",
       "      <td>57</td>\n",
       "      <td>M</td>\n",
       "      <td>ASY</td>\n",
       "      <td>135</td>\n",
       "      <td>128</td>\n",
       "      <td>0</td>\n",
       "      <td>Normal</td>\n",
       "      <td>118</td>\n",
       "      <td>Y</td>\n",
       "      <td>1.2</td>\n",
       "      <td>Flat</td>\n",
       "      <td>0.999544</td>\n",
       "      <td>7296</td>\n",
       "      <td>Underweight</td>\n",
       "      <td>1</td>\n",
       "    </tr>\n",
       "    <tr>\n",
       "      <th>916</th>\n",
       "      <td>57</td>\n",
       "      <td>F</td>\n",
       "      <td>ATA</td>\n",
       "      <td>128</td>\n",
       "      <td>236</td>\n",
       "      <td>0</td>\n",
       "      <td>LVH</td>\n",
       "      <td>172</td>\n",
       "      <td>N</td>\n",
       "      <td>0.0</td>\n",
       "      <td>Flat</td>\n",
       "      <td>0.405751</td>\n",
       "      <td>13452</td>\n",
       "      <td>Obese</td>\n",
       "      <td>1</td>\n",
       "    </tr>\n",
       "    <tr>\n",
       "      <th>917</th>\n",
       "      <td>38</td>\n",
       "      <td>M</td>\n",
       "      <td>NAP</td>\n",
       "      <td>138</td>\n",
       "      <td>170</td>\n",
       "      <td>0</td>\n",
       "      <td>Normal</td>\n",
       "      <td>175</td>\n",
       "      <td>N</td>\n",
       "      <td>0.0</td>\n",
       "      <td>Up</td>\n",
       "      <td>0.220488</td>\n",
       "      <td>6460</td>\n",
       "      <td>Normal</td>\n",
       "      <td>0</td>\n",
       "    </tr>\n",
       "  </tbody>\n",
       "</table>\n",
       "<p>918 rows × 15 columns</p>\n",
       "</div>"
      ],
      "text/plain": [
       "     Age Sex ChestPainType  RestingBP  Cholesterol  FastingBS RestingECG  \\\n",
       "0     40   M           ATA        141          289          0     Normal   \n",
       "1     49   F           NAP        158          175          0     Normal   \n",
       "2     37   M           ATA        135          285          0         ST   \n",
       "3     48   F           ASY        140          214          0     Normal   \n",
       "4     54   M           NAP        149          192          0     Normal   \n",
       "..   ...  ..           ...        ...          ...        ...        ...   \n",
       "913   45   M            TA        106          268          0     Normal   \n",
       "914   68   M           ASY        142          190          1     Normal   \n",
       "915   57   M           ASY        135          128          0     Normal   \n",
       "916   57   F           ATA        128          236          0        LVH   \n",
       "917   38   M           NAP        138          170          0     Normal   \n",
       "\n",
       "     MaxHR ExerciseAngina  Oldpeak ST_Slope  GeneticMarker1  GeneticMarker2  \\\n",
       "0      173              N      0.0       Up        0.046501           11560   \n",
       "1      151              N      1.0     Flat        0.619699            8575   \n",
       "2       97              N      0.0       Up        0.561993           10545   \n",
       "3      112              Y      1.5     Flat        0.345920           10272   \n",
       "4      124              N      0.0       Up        0.315190           10368   \n",
       "..     ...            ...      ...      ...             ...             ...   \n",
       "913    135              N      1.2     Flat        0.125356           12060   \n",
       "914    141              N      3.4     Flat        0.336965           12920   \n",
       "915    118              Y      1.2     Flat        0.999544            7296   \n",
       "916    172              N      0.0     Flat        0.405751           13452   \n",
       "917    175              N      0.0       Up        0.220488            6460   \n",
       "\n",
       "    BodyWeightCategory  HeartDisease  \n",
       "0               Normal             0  \n",
       "1           Overweight             1  \n",
       "2           Overweight             0  \n",
       "3                Obese             1  \n",
       "4          Underweight             0  \n",
       "..                 ...           ...  \n",
       "913             Normal             1  \n",
       "914         Overweight             1  \n",
       "915        Underweight             1  \n",
       "916              Obese             1  \n",
       "917             Normal             0  \n",
       "\n",
       "[918 rows x 15 columns]"
      ]
     },
     "execution_count": 148,
     "metadata": {},
     "output_type": "execute_result"
    }
   ],
   "source": [
    "# Imports.\n",
    "import pandas as pd\n",
    "import matplotlib.pyplot as plt\n",
    "\n",
    "# Load data & print the dataset.\n",
    "dataset = 'data\\modified_heart_dataset_supervised.csv'\n",
    "df = pd.read_csv(dataset)\n",
    "df"
   ]
  },
  {
   "cell_type": "code",
   "execution_count": 149,
   "metadata": {},
   "outputs": [
    {
     "name": "stdout",
     "output_type": "stream",
     "text": [
      "<class 'pandas.core.frame.DataFrame'>\n",
      "RangeIndex: 918 entries, 0 to 917\n",
      "Data columns (total 15 columns):\n",
      " #   Column              Non-Null Count  Dtype  \n",
      "---  ------              --------------  -----  \n",
      " 0   Age                 918 non-null    int64  \n",
      " 1   Sex                 918 non-null    object \n",
      " 2   ChestPainType       918 non-null    object \n",
      " 3   RestingBP           918 non-null    int64  \n",
      " 4   Cholesterol         918 non-null    int64  \n",
      " 5   FastingBS           918 non-null    int64  \n",
      " 6   RestingECG          918 non-null    object \n",
      " 7   MaxHR               918 non-null    int64  \n",
      " 8   ExerciseAngina      918 non-null    object \n",
      " 9   Oldpeak             918 non-null    float64\n",
      " 10  ST_Slope            918 non-null    object \n",
      " 11  GeneticMarker1      918 non-null    float64\n",
      " 12  GeneticMarker2      918 non-null    int64  \n",
      " 13  BodyWeightCategory  918 non-null    object \n",
      " 14  HeartDisease        918 non-null    int64  \n",
      "dtypes: float64(2), int64(7), object(6)\n",
      "memory usage: 107.7+ KB\n"
     ]
    }
   ],
   "source": [
    "# Display basice information about the dataset and check for missing values.\n",
    "df.info()"
   ]
  },
  {
   "cell_type": "markdown",
   "metadata": {},
   "source": [
    "# Step 2 - Data preparation"
   ]
  },
  {
   "cell_type": "code",
   "execution_count": 150,
   "metadata": {},
   "outputs": [
    {
     "name": "stdout",
     "output_type": "stream",
     "text": [
      "Age                   0\n",
      "Sex                   0\n",
      "ChestPainType         0\n",
      "RestingBP             0\n",
      "Cholesterol           0\n",
      "FastingBS             0\n",
      "RestingECG            0\n",
      "MaxHR                 0\n",
      "ExerciseAngina        0\n",
      "Oldpeak               0\n",
      "ST_Slope              0\n",
      "GeneticMarker1        0\n",
      "GeneticMarker2        0\n",
      "BodyWeightCategory    0\n",
      "HeartDisease          0\n",
      "dtype: int64\n"
     ]
    }
   ],
   "source": [
    "# Secondary check for missing values\n",
    "missing_values = df.isnull().sum()\n",
    "print(missing_values)"
   ]
  },
  {
   "cell_type": "code",
   "execution_count": 151,
   "metadata": {},
   "outputs": [
    {
     "name": "stdout",
     "output_type": "stream",
     "text": [
      "0\n"
     ]
    }
   ],
   "source": [
    "# Check for duplicate values.\n",
    "duplicate_values = df.duplicated().sum()\n",
    "print(duplicate_values)"
   ]
  },
  {
   "cell_type": "code",
   "execution_count": 152,
   "metadata": {},
   "outputs": [
    {
     "name": "stdout",
     "output_type": "stream",
     "text": [
      "Number of patients with chol of 0 is: 14.\n"
     ]
    }
   ],
   "source": [
    "zero_cholesterol_count = (df['Cholesterol'] == 0).sum()\n",
    "print(f\"Number of patients with chol of 0 is: {zero_cholesterol_count}.\")"
   ]
  },
  {
   "cell_type": "markdown",
   "metadata": {},
   "source": [
    "# Step 3 - EDA"
   ]
  },
  {
   "cell_type": "code",
   "execution_count": 153,
   "metadata": {},
   "outputs": [
    {
     "name": "stdout",
     "output_type": "stream",
     "text": [
      "count    918.000000\n",
      "mean     198.787582\n",
      "std      109.529397\n",
      "min       -5.000000\n",
      "25%      173.000000\n",
      "50%      223.000000\n",
      "75%      267.000000\n",
      "max      607.000000\n",
      "Name: Cholesterol, dtype: float64\n"
     ]
    }
   ],
   "source": [
    "# Display summary stats.\n",
    "print(df['Cholesterol'].describe())"
   ]
  },
  {
   "cell_type": "code",
   "execution_count": 154,
   "metadata": {},
   "outputs": [
    {
     "data": {
      "image/png": "[encoded data removed]",
      "text/plain": [
       "<Figure size 640x480 with 1 Axes>"
      ]
     },
     "metadata": {},
     "output_type": "display_data"
    }
   ],
   "source": [
    "# Create a boxplot for Chol. col.\n",
    "df.boxplot(column='Cholesterol')\n",
    "plt.show()"
   ]
  },
  {
   "cell_type": "code",
   "execution_count": 155,
   "metadata": {},
   "outputs": [
    {
     "name": "stdout",
     "output_type": "stream",
     "text": [
      "              Age   RestingBP  Cholesterol   FastingBS       MaxHR  \\\n",
      "count  734.000000  734.000000   734.000000  734.000000  734.000000   \n",
      "mean    52.889646  132.930518   240.807902    0.164850  140.158038   \n",
      "std      9.494312   17.664659    51.121580    0.371298   24.703858   \n",
      "min     28.000000   89.000000    86.000000    0.000000   71.000000   \n",
      "25%     46.000000  121.000000   207.000000    0.000000  122.000000   \n",
      "50%     54.000000  132.000000   236.000000    0.000000  141.000000   \n",
      "75%     59.000000  143.000000   274.750000    0.000000  159.000000   \n",
      "max     77.000000  196.000000   403.000000    1.000000  201.000000   \n",
      "\n",
      "          Oldpeak  GeneticMarker1  GeneticMarker2  HeartDisease  \n",
      "count  734.000000      734.000000      734.000000    734.000000  \n",
      "mean     0.900954        0.507698    12774.478202      0.475477  \n",
      "std      1.071986        0.293573     3699.655971      0.499739  \n",
      "min     -0.100000        0.000188     3836.000000      0.000000  \n",
      "25%      0.000000        0.253065    10165.500000      0.000000  \n",
      "50%      0.500000        0.517925    12416.000000      0.000000  \n",
      "75%      1.500000        0.762525    15283.000000      1.000000  \n",
      "max      6.200000        0.999714    25929.000000      1.000000  \n"
     ]
    }
   ],
   "source": [
    "Q1 = df['Cholesterol'].quantile(0.25)\n",
    "Q3 = df['Cholesterol'].quantile(0.75)\n",
    "\n",
    "IQR = Q3 - Q1\n",
    "\n",
    "lower_bound = Q1 - 1.5 * IQR\n",
    "upper_bound = Q3 + 1.5 * IQR\n",
    "\n",
    "df = df[(df['Cholesterol'] >= lower_bound) & (df['Cholesterol'] <= upper_bound)]\n",
    "print(df.describe())"
   ]
  },
  {
   "cell_type": "code",
   "execution_count": 156,
   "metadata": {},
   "outputs": [
    {
     "data": {
      "image/png": "[encoded data removed]",
      "text/plain": [
       "<Figure size 640x480 with 1 Axes>"
      ]
     },
     "metadata": {},
     "output_type": "display_data"
    }
   ],
   "source": [
    "no_heart_disease = df[df['HeartDisease'] == 0]['HeartDisease']\n",
    "heart_disease = df[df['HeartDisease'] == 1]['HeartDisease']\n",
    "\n",
    "bins = 2\n",
    "\n",
    "plt.hist([no_heart_disease, heart_disease], bins=bins, alpha=0.5, label=['No Heart Disease', 'Heart Disease'], color=['green', 'red'])\n",
    "\n",
    "plt.xlabel(\"HD\")\n",
    "plt.ylabel(\"Freq\")\n",
    "plt.title(\"Dis of HD\")\n",
    "\n",
    "plt.legend()\n",
    "\n",
    "plt.show()"
   ]
  },
  {
   "cell_type": "code",
   "execution_count": 157,
   "metadata": {},
   "outputs": [
    {
     "data": {
      "image/png": "[encoded data removed]",
      "text/plain": [
       "<Figure size 640x480 with 1 Axes>"
      ]
     },
     "metadata": {},
     "output_type": "display_data"
    }
   ],
   "source": [
    "# Create the histograms side-by-side\n",
    "plt.hist([df[df['HeartDisease'] == 0]['Cholesterol'], df[df['HeartDisease'] == 1]['Cholesterol']], bins=10, alpha=0.5, label=['No heart Disease', 'Heart Disease'], color=['green', 'red'], histtype='bar')\n",
    "\n",
    "# Add labels and show the plot.\n",
    "plt.xlabel('Cholesterol')\n",
    "plt.ylabel('Frequency')\n",
    "plt.title('Dist of HD')\n",
    "\n",
    "# Add legend to the histogram.\n",
    "plt.legend()\n",
    "\n",
    "# Show the plot.\n",
    "plt.show()"
   ]
  },
  {
   "cell_type": "markdown",
   "metadata": {},
   "source": [
    "# Rel sex & HD"
   ]
  },
  {
   "cell_type": "code",
   "execution_count": 158,
   "metadata": {},
   "outputs": [
    {
     "ename": "TypeError",
     "evalue": "Cannot perform 'rand_' with a dtyped [object] array and scalar of type [bool]",
     "output_type": "error",
     "traceback": [
      "\u001b[1;31m---------------------------------------------------------------------------\u001b[0m",
      "\u001b[1;31mTypeError\u001b[0m                                 Traceback (most recent call last)",
      "File \u001b[1;32mc:\\Users\\tjabb\\anaconda3\\Lib\\site-packages\\pandas\\core\\ops\\array_ops.py:364\u001b[0m, in \u001b[0;36mna_logical_op\u001b[1;34m(x, y, op)\u001b[0m\n\u001b[0;32m    355\u001b[0m \u001b[38;5;28;01mtry\u001b[39;00m:\n\u001b[0;32m    356\u001b[0m     \u001b[38;5;66;03m# For exposition, write:\u001b[39;00m\n\u001b[0;32m    357\u001b[0m     \u001b[38;5;66;03m#  yarr = isinstance(y, np.ndarray)\u001b[39;00m\n\u001b[1;32m   (...)\u001b[0m\n\u001b[0;32m    362\u001b[0m     \u001b[38;5;66;03m# Then Cases where this goes through without raising include:\u001b[39;00m\n\u001b[0;32m    363\u001b[0m     \u001b[38;5;66;03m#  (xint or xbool) and (yint or bool)\u001b[39;00m\n\u001b[1;32m--> 364\u001b[0m     result \u001b[38;5;241m=\u001b[39m \u001b[43mop\u001b[49m\u001b[43m(\u001b[49m\u001b[43mx\u001b[49m\u001b[43m,\u001b[49m\u001b[43m \u001b[49m\u001b[43my\u001b[49m\u001b[43m)\u001b[49m\n\u001b[0;32m    365\u001b[0m \u001b[38;5;28;01mexcept\u001b[39;00m \u001b[38;5;167;01mTypeError\u001b[39;00m:\n",
      "File \u001b[1;32mc:\\Users\\tjabb\\anaconda3\\Lib\\site-packages\\pandas\\core\\roperator.py:54\u001b[0m, in \u001b[0;36mrand_\u001b[1;34m(left, right)\u001b[0m\n\u001b[0;32m     53\u001b[0m \u001b[38;5;28;01mdef\u001b[39;00m \u001b[38;5;21mrand_\u001b[39m(left, right):\n\u001b[1;32m---> 54\u001b[0m     \u001b[38;5;28;01mreturn\u001b[39;00m operator\u001b[38;5;241m.\u001b[39mand_(right, left)\n",
      "\u001b[1;31mTypeError\u001b[0m: unsupported operand type(s) for &: 'int' and 'str'",
      "\nDuring handling of the above exception, another exception occurred:\n",
      "\u001b[1;31mTypeError\u001b[0m                                 Traceback (most recent call last)",
      "File \u001b[1;32mc:\\Users\\tjabb\\anaconda3\\Lib\\site-packages\\pandas\\core\\ops\\array_ops.py:378\u001b[0m, in \u001b[0;36mna_logical_op\u001b[1;34m(x, y, op)\u001b[0m\n\u001b[0;32m    377\u001b[0m \u001b[38;5;28;01mtry\u001b[39;00m:\n\u001b[1;32m--> 378\u001b[0m     result \u001b[38;5;241m=\u001b[39m \u001b[43mlibops\u001b[49m\u001b[38;5;241;43m.\u001b[39;49m\u001b[43mscalar_binop\u001b[49m\u001b[43m(\u001b[49m\u001b[43mx\u001b[49m\u001b[43m,\u001b[49m\u001b[43m \u001b[49m\u001b[43my\u001b[49m\u001b[43m,\u001b[49m\u001b[43m \u001b[49m\u001b[43mop\u001b[49m\u001b[43m)\u001b[49m\n\u001b[0;32m    379\u001b[0m \u001b[38;5;28;01mexcept\u001b[39;00m (\n\u001b[0;32m    380\u001b[0m     \u001b[38;5;167;01mTypeError\u001b[39;00m,\n\u001b[0;32m    381\u001b[0m     \u001b[38;5;167;01mValueError\u001b[39;00m,\n\u001b[1;32m   (...)\u001b[0m\n\u001b[0;32m    384\u001b[0m     \u001b[38;5;167;01mNotImplementedError\u001b[39;00m,\n\u001b[0;32m    385\u001b[0m ) \u001b[38;5;28;01mas\u001b[39;00m err:\n",
      "File \u001b[1;32mops.pyx:210\u001b[0m, in \u001b[0;36mpandas._libs.ops.scalar_binop\u001b[1;34m()\u001b[0m\n",
      "File \u001b[1;32mc:\\Users\\tjabb\\anaconda3\\Lib\\site-packages\\pandas\\core\\roperator.py:54\u001b[0m, in \u001b[0;36mrand_\u001b[1;34m(left, right)\u001b[0m\n\u001b[0;32m     53\u001b[0m \u001b[38;5;28;01mdef\u001b[39;00m \u001b[38;5;21mrand_\u001b[39m(left, right):\n\u001b[1;32m---> 54\u001b[0m     \u001b[38;5;28;01mreturn\u001b[39;00m operator\u001b[38;5;241m.\u001b[39mand_(right, left)\n",
      "\u001b[1;31mTypeError\u001b[0m: unsupported operand type(s) for &: 'bool' and 'str'",
      "\nThe above exception was the direct cause of the following exception:\n",
      "\u001b[1;31mTypeError\u001b[0m                                 Traceback (most recent call last)",
      "Cell \u001b[1;32mIn[158], line 1\u001b[0m\n\u001b[1;32m----> 1\u001b[0m male_no_heart_disease \u001b[38;5;241m=\u001b[39m df[df[\u001b[38;5;124m'\u001b[39m\u001b[38;5;124mHeartDisease\u001b[39m\u001b[38;5;124m'\u001b[39m] \u001b[38;5;241m==\u001b[39m \u001b[38;5;241;43m0\u001b[39;49m\u001b[43m \u001b[49m\u001b[38;5;241;43m&\u001b[39;49m\u001b[43m \u001b[49m\u001b[43mdf\u001b[49m\u001b[43m[\u001b[49m\u001b[38;5;124;43m'\u001b[39;49m\u001b[38;5;124;43mSex\u001b[39;49m\u001b[38;5;124;43m'\u001b[39;49m\u001b[43m]\u001b[49m \u001b[38;5;241m==\u001b[39m \u001b[38;5;124m'\u001b[39m\u001b[38;5;124mM\u001b[39m\u001b[38;5;124m'\u001b[39m]\n\u001b[0;32m      2\u001b[0m male_heart_disease \u001b[38;5;241m=\u001b[39m df[df[\u001b[38;5;124m'\u001b[39m\u001b[38;5;124mHeartDisease\u001b[39m\u001b[38;5;124m'\u001b[39m] \u001b[38;5;241m==\u001b[39m \u001b[38;5;241m1\u001b[39m \u001b[38;5;241m&\u001b[39m df[\u001b[38;5;124m'\u001b[39m\u001b[38;5;124mSex\u001b[39m\u001b[38;5;124m'\u001b[39m] \u001b[38;5;241m==\u001b[39m \u001b[38;5;124m'\u001b[39m\u001b[38;5;124mM\u001b[39m\u001b[38;5;124m'\u001b[39m]\n\u001b[0;32m      3\u001b[0m female_no_heart_disease \u001b[38;5;241m=\u001b[39m df[df[\u001b[38;5;124m'\u001b[39m\u001b[38;5;124mHeartDisease\u001b[39m\u001b[38;5;124m'\u001b[39m] \u001b[38;5;241m==\u001b[39m \u001b[38;5;241m0\u001b[39m \u001b[38;5;241m&\u001b[39m df[\u001b[38;5;124m'\u001b[39m\u001b[38;5;124mSex\u001b[39m\u001b[38;5;124m'\u001b[39m] \u001b[38;5;241m==\u001b[39m \u001b[38;5;124m'\u001b[39m\u001b[38;5;124mF\u001b[39m\u001b[38;5;124m'\u001b[39m]\n",
      "File \u001b[1;32mc:\\Users\\tjabb\\anaconda3\\Lib\\site-packages\\pandas\\core\\ops\\common.py:76\u001b[0m, in \u001b[0;36m_unpack_zerodim_and_defer.<locals>.new_method\u001b[1;34m(self, other)\u001b[0m\n\u001b[0;32m     72\u001b[0m             \u001b[38;5;28;01mreturn\u001b[39;00m \u001b[38;5;28mNotImplemented\u001b[39m\n\u001b[0;32m     74\u001b[0m other \u001b[38;5;241m=\u001b[39m item_from_zerodim(other)\n\u001b[1;32m---> 76\u001b[0m \u001b[38;5;28;01mreturn\u001b[39;00m \u001b[43mmethod\u001b[49m\u001b[43m(\u001b[49m\u001b[38;5;28;43mself\u001b[39;49m\u001b[43m,\u001b[49m\u001b[43m \u001b[49m\u001b[43mother\u001b[49m\u001b[43m)\u001b[49m\n",
      "File \u001b[1;32mc:\\Users\\tjabb\\anaconda3\\Lib\\site-packages\\pandas\\core\\arraylike.py:74\u001b[0m, in \u001b[0;36mOpsMixin.__rand__\u001b[1;34m(self, other)\u001b[0m\n\u001b[0;32m     72\u001b[0m \u001b[38;5;129m@unpack_zerodim_and_defer\u001b[39m(\u001b[38;5;124m\"\u001b[39m\u001b[38;5;124m__rand__\u001b[39m\u001b[38;5;124m\"\u001b[39m)\n\u001b[0;32m     73\u001b[0m \u001b[38;5;28;01mdef\u001b[39;00m \u001b[38;5;21m__rand__\u001b[39m(\u001b[38;5;28mself\u001b[39m, other):\n\u001b[1;32m---> 74\u001b[0m     \u001b[38;5;28;01mreturn\u001b[39;00m \u001b[38;5;28;43mself\u001b[39;49m\u001b[38;5;241;43m.\u001b[39;49m\u001b[43m_logical_method\u001b[49m\u001b[43m(\u001b[49m\u001b[43mother\u001b[49m\u001b[43m,\u001b[49m\u001b[43m \u001b[49m\u001b[43mroperator\u001b[49m\u001b[38;5;241;43m.\u001b[39;49m\u001b[43mrand_\u001b[49m\u001b[43m)\u001b[49m\n",
      "File \u001b[1;32mc:\\Users\\tjabb\\anaconda3\\Lib\\site-packages\\pandas\\core\\series.py:5814\u001b[0m, in \u001b[0;36mSeries._logical_method\u001b[1;34m(self, other, op)\u001b[0m\n\u001b[0;32m   5811\u001b[0m lvalues \u001b[38;5;241m=\u001b[39m \u001b[38;5;28mself\u001b[39m\u001b[38;5;241m.\u001b[39m_values\n\u001b[0;32m   5812\u001b[0m rvalues \u001b[38;5;241m=\u001b[39m extract_array(other, extract_numpy\u001b[38;5;241m=\u001b[39m\u001b[38;5;28;01mTrue\u001b[39;00m, extract_range\u001b[38;5;241m=\u001b[39m\u001b[38;5;28;01mTrue\u001b[39;00m)\n\u001b[1;32m-> 5814\u001b[0m res_values \u001b[38;5;241m=\u001b[39m \u001b[43mops\u001b[49m\u001b[38;5;241;43m.\u001b[39;49m\u001b[43mlogical_op\u001b[49m\u001b[43m(\u001b[49m\u001b[43mlvalues\u001b[49m\u001b[43m,\u001b[49m\u001b[43m \u001b[49m\u001b[43mrvalues\u001b[49m\u001b[43m,\u001b[49m\u001b[43m \u001b[49m\u001b[43mop\u001b[49m\u001b[43m)\u001b[49m\n\u001b[0;32m   5815\u001b[0m \u001b[38;5;28;01mreturn\u001b[39;00m \u001b[38;5;28mself\u001b[39m\u001b[38;5;241m.\u001b[39m_construct_result(res_values, name\u001b[38;5;241m=\u001b[39mres_name)\n",
      "File \u001b[1;32mc:\\Users\\tjabb\\anaconda3\\Lib\\site-packages\\pandas\\core\\ops\\array_ops.py:456\u001b[0m, in \u001b[0;36mlogical_op\u001b[1;34m(left, right, op)\u001b[0m\n\u001b[0;32m    452\u001b[0m \u001b[38;5;28;01melse\u001b[39;00m:\n\u001b[0;32m    453\u001b[0m     \u001b[38;5;66;03m# i.e. scalar\u001b[39;00m\n\u001b[0;32m    454\u001b[0m     is_other_int_dtype \u001b[38;5;241m=\u001b[39m lib\u001b[38;5;241m.\u001b[39mis_integer(rvalues)\n\u001b[1;32m--> 456\u001b[0m res_values \u001b[38;5;241m=\u001b[39m \u001b[43mna_logical_op\u001b[49m\u001b[43m(\u001b[49m\u001b[43mlvalues\u001b[49m\u001b[43m,\u001b[49m\u001b[43m \u001b[49m\u001b[43mrvalues\u001b[49m\u001b[43m,\u001b[49m\u001b[43m \u001b[49m\u001b[43mop\u001b[49m\u001b[43m)\u001b[49m\n\u001b[0;32m    458\u001b[0m \u001b[38;5;66;03m# For int vs int `^`, `|`, `&` are bitwise operators and return\u001b[39;00m\n\u001b[0;32m    459\u001b[0m \u001b[38;5;66;03m#   integer dtypes.  Otherwise these are boolean ops\u001b[39;00m\n\u001b[0;32m    460\u001b[0m \u001b[38;5;28;01mif\u001b[39;00m \u001b[38;5;129;01mnot\u001b[39;00m (left\u001b[38;5;241m.\u001b[39mdtype\u001b[38;5;241m.\u001b[39mkind \u001b[38;5;129;01min\u001b[39;00m \u001b[38;5;124m\"\u001b[39m\u001b[38;5;124miu\u001b[39m\u001b[38;5;124m\"\u001b[39m \u001b[38;5;129;01mand\u001b[39;00m is_other_int_dtype):\n",
      "File \u001b[1;32mc:\\Users\\tjabb\\anaconda3\\Lib\\site-packages\\pandas\\core\\ops\\array_ops.py:387\u001b[0m, in \u001b[0;36mna_logical_op\u001b[1;34m(x, y, op)\u001b[0m\n\u001b[0;32m    379\u001b[0m         \u001b[38;5;28;01mexcept\u001b[39;00m (\n\u001b[0;32m    380\u001b[0m             \u001b[38;5;167;01mTypeError\u001b[39;00m,\n\u001b[0;32m    381\u001b[0m             \u001b[38;5;167;01mValueError\u001b[39;00m,\n\u001b[1;32m   (...)\u001b[0m\n\u001b[0;32m    384\u001b[0m             \u001b[38;5;167;01mNotImplementedError\u001b[39;00m,\n\u001b[0;32m    385\u001b[0m         ) \u001b[38;5;28;01mas\u001b[39;00m err:\n\u001b[0;32m    386\u001b[0m             typ \u001b[38;5;241m=\u001b[39m \u001b[38;5;28mtype\u001b[39m(y)\u001b[38;5;241m.\u001b[39m\u001b[38;5;18m__name__\u001b[39m\n\u001b[1;32m--> 387\u001b[0m             \u001b[38;5;28;01mraise\u001b[39;00m \u001b[38;5;167;01mTypeError\u001b[39;00m(\n\u001b[0;32m    388\u001b[0m                 \u001b[38;5;124mf\u001b[39m\u001b[38;5;124m\"\u001b[39m\u001b[38;5;124mCannot perform \u001b[39m\u001b[38;5;124m'\u001b[39m\u001b[38;5;132;01m{\u001b[39;00mop\u001b[38;5;241m.\u001b[39m\u001b[38;5;18m__name__\u001b[39m\u001b[38;5;132;01m}\u001b[39;00m\u001b[38;5;124m'\u001b[39m\u001b[38;5;124m with a dtyped [\u001b[39m\u001b[38;5;132;01m{\u001b[39;00mx\u001b[38;5;241m.\u001b[39mdtype\u001b[38;5;132;01m}\u001b[39;00m\u001b[38;5;124m] array \u001b[39m\u001b[38;5;124m\"\u001b[39m\n\u001b[0;32m    389\u001b[0m                 \u001b[38;5;124mf\u001b[39m\u001b[38;5;124m\"\u001b[39m\u001b[38;5;124mand scalar of type [\u001b[39m\u001b[38;5;132;01m{\u001b[39;00mtyp\u001b[38;5;132;01m}\u001b[39;00m\u001b[38;5;124m]\u001b[39m\u001b[38;5;124m\"\u001b[39m\n\u001b[0;32m    390\u001b[0m             ) \u001b[38;5;28;01mfrom\u001b[39;00m \u001b[38;5;21;01merr\u001b[39;00m\n\u001b[0;32m    392\u001b[0m \u001b[38;5;28;01mreturn\u001b[39;00m result\u001b[38;5;241m.\u001b[39mreshape(x\u001b[38;5;241m.\u001b[39mshape)\n",
      "\u001b[1;31mTypeError\u001b[0m: Cannot perform 'rand_' with a dtyped [object] array and scalar of type [bool]"
     ]
    }
   ],
   "source": [
    "male_no_heart_disease = df[(df['HeartDisease'] == 0 & df['Sex'] == 'M')]\n",
    "male_heart_disease = df[(df['HeartDisease'] == 1 & df['Sex'] == 'M')]\n",
    "female_no_heart_disease = df[(df['HeartDisease'] == 0 & df['Sex'] == 'F')]\n",
    "female_heart_disease = df[(df['HeartDisease'] == 1 & df['Sex'] == 'F')]\n",
    "\n",
    "cats = ['Heart disease', 'No heart disease']\n",
    "bar_width = 0.5\n",
    "\n",
    "male_positions = [0, 1]\n",
    "female_positions = [x + bar_width for x in male_positions]\n",
    "\n",
    "male_heights = [len(male_heart_disease), len(male_no_heart_disease)]\n",
    "female_heights = [len(female_heart_disease), len(female_no_heart_disease)]\n",
    "\n",
    "# Create the bar plot.\n",
    "plt.bar(male_positions, male_heights, bar_width, label='Male', color='blue')\n",
    "plt.bar(female_positions, female_heights, bar_width, label='Female', color='pink')\n",
    "\n",
    "# Add labels and title to the plot.\n",
    "plt.xlabel('Heart Disease')\n",
    "plt.ylabel('Number of Cases')\n",
    "plt.title('Comparison of Heart Disease Cases between Males and Females')\n",
    "\n",
    "# Add x-axis tick labels.\n",
    "plt.xticks([0.17, 1.17], cats)\n",
    "\n",
    "# Add legend to the plot.\n",
    "plt.legend()\n",
    "\n",
    "plt.show()"
   ]
  },
  {
   "cell_type": "code",
   "execution_count": null,
   "metadata": {},
   "outputs": [],
   "source": []
  },
  {
   "cell_type": "code",
   "execution_count": null,
   "metadata": {},
   "outputs": [],
   "source": []
  }
 ],
 "metadata": {
  "kernelspec": {
   "display_name": "base",
   "language": "python",
   "name": "python3"
  },
  "language_info": {
   "codemirror_mode": {
    "name": "ipython",
    "version": 3
   },
   "file_extension": ".py",
   "mimetype": "text/x-python",
   "name": "python",
   "nbconvert_exporter": "python",
   "pygments_lexer": "ipython3",
   "version": "0.0.0"
  }
 },
 "nbformat": 4,
 "nbformat_minor": 2
}
