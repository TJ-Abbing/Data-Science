{
 "cells": [
  {
   "cell_type": "markdown",
   "metadata": {},
   "source": [
    "# Final assignment - Heart dataset - Group 2 - Alessandro, Fadi & Timon\n",
    "\n",
    "**Context:**\n",
    "\n",
    "<sub>\n",
    "Cardiovascular diseases (CVDs) are the leading cause of death globally, accounting for an estimated 17.9 million lives each year (31% of all deaths). Four out of 5 CVD deaths result from heart attacks and strokes, with one-third occurring prematurely in individuals under 70 years old. Heart failure is a common event caused by CVDs, and this dataset comprises 11 features for predicting potential heart disease. Early detection and management are crucial for people with cardiovascular disease or those at high cardiovascular risk (due to risk factors such as hypertension, diabetes, hyperlipidemia, or established disease), where a machine learning model can be invaluable.\n",
    "</sub>\n",
    "\n",
    "**Goal:**\n",
    "\n",
    "<sub>To predict the likelihood of heart failure based on the \"Heart Failure Prediction\" dataset. The output will be a binary classification (0 or 1) representing the likelihood of heart failure.</sub>\n",
    "\n",
    "**Features (x):**\n",
    "\n",
    "<sub>The features to be used are as follows: Age, Sex, ChestPainType, RestingBP, Cholesterol, FastingBS, RestingECG, MaxHR, ExerciseAngina,\tOldpeak\tST_Slope & HeartDisease.</sub>\n",
    "\n",
    "**Target Variable (y):**\n",
    "\n",
    "<sub>The target variable is \"HeartDisease.\"</sub>\n",
    "\n",
    "**Attribute Information:**\n",
    "\n",
    "<sub>\n",
    "\n",
    "- Age: Age of the patient [years]\n",
    "- Sex: Sex of the patient [M: Male, F: Female]\n",
    "- ChestPainType: Chest pain type [TA: Typical Angina, ATA: Atypical Angina, NAP: Non-Anginal Pain, ASY: Asymptomatic]\n",
    "- RestingBP: Resting blood pressure [mm Hg]\n",
    "- Cholesterol: Serum cholesterol [mm/dl]\n",
    "- FastingBS: Fasting blood sugar [1: if FastingBS > 120 mg/dl, 0: otherwise]\n",
    "- RestingECG: Resting electrocardiogram results [Normal: Normal, ST: having ST-T wave abnormality (T wave inversions and/or ST elevation or depression of > 0.05 mV), LVH: showing probable or definite left ventricular hypertrophy by Estes' criteria]\n",
    "- MaxHR: Maximum heart rate achieved [Numeric value between 60 and 202]\n",
    "- ExerciseAngina: Exercise-induced angina [Y: Yes, N: No]\n",
    "- Oldpeak: Oldpeak = ST [Numeric value measured in depression]\n",
    "- ST_Slope: The slope of the peak exercise ST segment [Up: upsloping, Flat: flat, Down: downsloping]\n",
    "- HeartDisease: Output class [1: heart disease, 0: Normal]\n",
    "\n",
    "</sub>"
   ]
  },
  {
   "cell_type": "markdown",
   "metadata": {},
   "source": [
    "--- Start of Timon's part ---"
   ]
  },
  {
   "cell_type": "markdown",
   "metadata": {
    "tags": []
   },
   "source": [
    "## Step 1 - Data Loading and Initial Exploration:\n",
    "<sub>\n",
    "\n",
    "- Load the dataset into a Pandas DataFrame.\n",
    "- Display basic information about the dataset.\n",
    "\n",
    "</sub>"
   ]
  },
  {
   "cell_type": "code",
   "execution_count": null,
   "metadata": {},
   "outputs": [],
   "source": [
    "# Imports.\n",
    "import pandas as pd\n",
    "import matplotlib.pyplot as plt\n",
    "import seaborn as sns\n",
    "\n",
    "# Assign & print the dataset.\n",
    "dataset = 'data/modified_heart_dataset_supervised.csv'\n",
    "df = pd.read_csv(dataset)\n",
    "df\n",
    "\n",
    "# Based on the dataset, we can make the following divide:\n",
    "\n",
    "# Numerical Columns:\n",
    "# - Age\n",
    "# - RestingBP\n",
    "# - Cholesterol\n",
    "# - FastingBS\n",
    "# - MaxHR\n",
    "# - ExerciseAngina\n",
    "# - Oldpeak\n",
    "# - GeneticMarker1\n",
    "# - GeneticMarker2\n",
    "\n",
    "# Categorical Columns:\n",
    "# - Sex\n",
    "# - ChestPainType\n",
    "# - RestingECG\n",
    "# - ST_Slope\n",
    "# - BodyWeightCategory\n",
    "# - HeartDisease (Target)"
   ]
  },
  {
   "cell_type": "code",
   "execution_count": null,
   "metadata": {},
   "outputs": [],
   "source": [
    "# Explore the distribution of the HeartDisease column, which is the target variable.\n",
    "\n",
    "# Print the number of people with heart disease and without heart disease.\n",
    "print(df['HeartDisease'].value_counts())\n",
    "\n",
    "# The amount of people with and without heart disease is almost equal. \n",
    "# This is good as it means the dataset is balanced."
   ]
  },
  {
   "cell_type": "code",
   "execution_count": null,
   "metadata": {},
   "outputs": [],
   "source": [
    "# Display basic information about the dataset and check for missing values.\n",
    "df.info()"
   ]
  },
  {
   "cell_type": "markdown",
   "metadata": {},
   "source": [
    "## Step 2 - Data Preparation\n",
    "\n",
    "<sub>\n",
    "\n",
    "- Identify and handle missing values.\n",
    "\n",
    "</sub>"
   ]
  },
  {
   "cell_type": "code",
   "execution_count": null,
   "metadata": {},
   "outputs": [],
   "source": [
    "# Secondary check for missing values.\n",
    "missing_values = df.isnull().sum()\n",
    "print(missing_values)\n",
    "\n",
    "# No missing values found, proceed to the next step."
   ]
  },
  {
   "cell_type": "code",
   "execution_count": null,
   "metadata": {},
   "outputs": [],
   "source": [
    "# Check for duplicate values.\n",
    "duplicate_values = df.duplicated().sum()\n",
    "print(duplicate_values)\n",
    "\n",
    "# No duplicate values found, proceed to the next step."
   ]
  },
  {
   "cell_type": "markdown",
   "metadata": {},
   "source": [
    "## Step 3 - Exploratory Data Analysis (EDA)\n",
    "\n",
    "<sub>\n",
    "\n",
    "- Create visualizations to explore the relationships between the features and the target variable.\n",
    "- Analyze the distribution of the target variable.\n",
    "\n",
    "</sub>"
   ]
  },
  {
   "cell_type": "code",
   "execution_count": null,
   "metadata": {},
   "outputs": [],
   "source": [
    "# Display the summary statistics.\n",
    "print(df.describe())"
   ]
  },
  {
   "cell_type": "markdown",
   "metadata": {},
   "source": [
    "### Numerical columns"
   ]
  },
  {
   "cell_type": "code",
   "execution_count": null,
   "metadata": {},
   "outputs": [],
   "source": [
    "# Check out the correlation between the columns in the dataset using a heatmap.\n",
    "\n",
    "# Set up the figure size.\n",
    "plt.figure(figsize=(16, 9))\n",
    "\n",
    "# Calculate the correlation matrix using all numerical columns.\n",
    "cor = df[['Age', 'RestingBP', 'Cholesterol', 'FastingBS', 'MaxHR', 'Oldpeak',\n",
    "           'GeneticMarker1', 'GeneticMarker2', 'HeartDisease']].corr()\n",
    "\n",
    "# Create a heatmap with correlation values annotated.\n",
    "heatmap = sns.heatmap(data=cor, annot=True, vmin=0.1, vmax=0.95, center=0, cmap='mako')\n",
    "\n",
    "# Set the title and adjust the padding.\n",
    "heatmap.set_title('Correlation Heatmap - HeartDisease', fontdict={'fontsize': 12}, pad=12)\n",
    "\n",
    "# Show the heatmap.\n",
    "plt.show()"
   ]
  },
  {
   "cell_type": "code",
   "execution_count": null,
   "metadata": {},
   "outputs": [],
   "source": [
    "# Analyzing the correlation between different features and the target variable HeartDisease.\n",
    "# The focus is on understanding the correlation of eligble features with HeartDisease.\n",
    "\n",
    "# Creating a heatmap to visualize correlation.\n",
    "plt.figure(figsize=(8, 12))\n",
    "\n",
    "# Selecting relevant columns for correlation analysis.\n",
    "cor = df[['Age', 'RestingBP', 'Cholesterol', 'FastingBS', 'MaxHR', 'Oldpeak',\n",
    "       'GeneticMarker1', 'GeneticMarker2', 'HeartDisease']].corr()\n",
    "\n",
    "# Sorting and extracting correlation with HeartDisease in descending order.\n",
    "heatmap = sns.heatmap(data=cor[['HeartDisease']].sort_values(by='HeartDisease', ascending=False),\n",
    "                      vmin=-1, vmax=1, annot=True, cmap='BrBG')\n",
    "\n",
    "# Setting the title and formatting for better readability.\n",
    "heatmap.set_title('Features Correlating with Heart Disease', fontdict={'fontsize': 18}, pad=16)\n",
    "\n",
    "# Displaying the heatmap.\n",
    "plt.show()\n",
    "\n",
    "# General guide for interpreting correlation values:\n",
    "\n",
    "# Correlation Interpretation Guide:\n",
    "# Perfect Negative Correlation: -1.0\n",
    "# Very Strong Negative Correlation: -0.9 to -1.0\n",
    "# Strong Negative Correlation: -0.7 to -0.9\n",
    "# Moderate Negative Correlation: -0.5 to -0.7\n",
    "# Weak Negative Correlation: -0.3 to -0.5\n",
    "# Very Weak Negative Correlation: -0.1 to -0.3\n",
    "\n",
    "# No Correlation: 0.0\n",
    "\n",
    "# Very Weak Positive Correlation: 0.1 to 0.3\n",
    "# Weak Positive Correlation: 0.3 to 0.5\n",
    "# Moderate Positive Correlation: 0.5 to 0.7\n",
    "# Strong Positive Correlation: 0.7 to 0.9\n",
    "# Very Strong Positive Correlation: 0.9 to 1.0\n",
    "# Perfect Positive Correlation: 1.0\n",
    "\n",
    "# Conclusion:\n",
    "\n",
    "# There seems to be no correlation between GeneticMarker1 and HeartDisease.\n",
    "# There seems to be a very weak positive correlation between Cholesterol and HeartDisease.\n",
    "# There seems to be a weak negative correlation between MaxHR and HeartDisease."
   ]
  },
  {
   "cell_type": "code",
   "execution_count": null,
   "metadata": {},
   "outputs": [],
   "source": [
    "# Variable assignments.\n",
    "\n",
    "# Set the number of bins for the histograms below.\n",
    "bins = 20"
   ]
  },
  {
   "cell_type": "markdown",
   "metadata": {
    "tags": []
   },
   "source": [
    "#### Cholesterol"
   ]
  },
  {
   "cell_type": "code",
   "execution_count": null,
   "metadata": {},
   "outputs": [],
   "source": [
    "# Fadi and Alex raised concerns about the Cholesterol column. Seems to have a rather high amount of 0 values. \n",
    "\n",
    "# Doing a check here.\n",
    "zero_cholesterol_count = (df['Cholesterol'] == 0).sum()\n",
    "print(f\"The number of patients with a cholesterol value of 0 is {zero_cholesterol_count}.\")\n",
    "print(f\"The correlation between Heart Disease and Cholesterol is {df['HeartDisease'].corr(df['Cholesterol'])}\")\n",
    "# Amount of 0 values for the cholesterol column seems to be too high. Will need to be explored further."
   ]
  },
  {
   "cell_type": "code",
   "execution_count": null,
   "metadata": {},
   "outputs": [],
   "source": [
    "# Create a boxplot for the Cholesterol column.\n",
    "df.boxplot(column='Cholesterol')\n",
    "plt.show()\n",
    "# Looking at the boxplot, there are a lot of outliers. This will need to be addressed in the next step by removing them."
   ]
  },
  {
   "cell_type": "code",
   "execution_count": null,
   "metadata": {},
   "outputs": [],
   "source": [
    "# Calculate the IQR for the Cholesterol column.\n",
    "Q1 = df['Cholesterol'].quantile(0.25)\n",
    "Q3 = df['Cholesterol'].quantile(0.75)\n",
    "IQR = Q3 - Q1\n",
    "\n",
    "# Define the upper and lower bounds for outliers.\n",
    "lower_bound = Q1 - 1.5 * IQR\n",
    "upper_bound = Q3 + 1.5 * IQR\n",
    "\n",
    "# Remove outliers from the Cholesterol column.\n",
    "df = df[(df['Cholesterol'] >= lower_bound) & (df['Cholesterol'] <= upper_bound)]\n",
    "\n",
    "# Display the summary statistics again to check results.\n",
    "print(df.describe())\n",
    "# Standard deviation has decreased, indicating that the outliers have been removed."
   ]
  },
  {
   "cell_type": "code",
   "execution_count": null,
   "metadata": {},
   "outputs": [],
   "source": [
    "# Explore the relation between Cholesterol and HeartDisease.\n",
    "\n",
    "# Declare variables.\n",
    "no_heart_disease_cholesterol = df[df['HeartDisease'] == 0]['Cholesterol']\n",
    "heart_disease_cholesterol = df[df['HeartDisease'] == 1]['Cholesterol']\n",
    "\n",
    "# Create a histogram.\n",
    "plt.hist([no_heart_disease_cholesterol, heart_disease_cholesterol], bins=bins, alpha=0.5, label=['No heart Disease', 'Heart Disease'], color=['green', 'red'], histtype='bar')\n",
    "\n",
    "# Add labels and show the plot.\n",
    "plt.gca().set(title='Relation between Cholesterol and Heart Disease', xlabel='Cholesterol', ylabel='Frequency')\n",
    "\n",
    "# Add legend to the histogram.\n",
    "plt.legend()\n",
    "\n",
    "# Show the plot.\n",
    "plt.show()\n",
    "\n",
    "# There seems to be a relation between cholesterol and heart disease. \n",
    "# The lower the cholesterol, the lower the chance of heart disease.\n",
    "\n",
    "# The correlation between Heart Disease and Cholesterol has also increased after removing the outliers.\n",
    "print(f\"The correlation between Heart Disease and Cholesterol is {df['HeartDisease'].corr(df['Cholesterol'])}\")"
   ]
  },
  {
   "cell_type": "markdown",
   "metadata": {},
   "source": [
    "#### GeneticMarker1"
   ]
  },
  {
   "cell_type": "code",
   "execution_count": null,
   "metadata": {},
   "outputs": [],
   "source": [
    "# Explore the relation between GeneticMarker1 and HeartDisease.\n",
    "\n",
    "# Variable assignments.\n",
    "no_heart_disease_genetic_marker1 = df[df['HeartDisease'] == 0]['GeneticMarker1']\n",
    "heart_disease_genetic_marker1 = df[df['HeartDisease'] == 1]['GeneticMarker1']\n",
    "\n",
    "# Create a histogram.\n",
    "plt.hist([no_heart_disease_genetic_marker1, heart_disease_genetic_marker1], bins=bins, alpha=0.5, label=['No Heart Disease', 'Heart Disease'], color=['green', 'red'])\n",
    "# Add labels and title to the histogram.\n",
    "plt.gca().set(title='Histogram of GeneticMarker1 by Heart Disease', xlabel='GeneticMarker1', ylabel='Frequency')\n",
    "# Add legend to the histogram.\n",
    "plt.legend()\n",
    "# Show the plot.\n",
    "plt.show()\n",
    "\n",
    "# There seems to be no correlation between the genetic marker GeneticMarker1 and heart disease as.\n",
    "# whether a person has heart disease or not seems to have no effect on the value of GeneticMarker1.\n",
    "# Therefore the GeneticMarker1 column is eligible to be dropped."
   ]
  },
  {
   "cell_type": "markdown",
   "metadata": {},
   "source": [
    "#### GeneticMarker2"
   ]
  },
  {
   "cell_type": "code",
   "execution_count": null,
   "metadata": {},
   "outputs": [],
   "source": [
    "# Explore the relation between GeneticMarker2 and HeartDisease.\n",
    "# GenericMarker1 did not show any correlation with HeartDisease, therefore it might be interesting to check how this compares with GeneticMarker2.\n",
    "\n",
    "# Variable assignments.\n",
    "no_heart_disease_genetic_marker2 = df[df['HeartDisease'] == 0]['GeneticMarker2']\n",
    "heart_disease_genetic_marker2 = df[df['HeartDisease'] == 1]['GeneticMarker2']\n",
    "\n",
    "# Create a histogram.\n",
    "plt.hist([no_heart_disease_genetic_marker2, heart_disease_genetic_marker2], bins=bins, alpha=0.5, label=['No Heart Disease', 'Heart Disease'], color=['green', 'red'])\n",
    "# Add labels and title to the histogram.\n",
    "plt.gca().set(title='Histogram of GeneticMarker2 by Heart Disease', xlabel='GeneticMarker2', ylabel='Frequency')\n",
    "# Add legend to the histogram.\n",
    "plt.legend()\n",
    "# Show the plot.\n",
    "plt.show()\n",
    "\n",
    "# There DOES seems to be a correlation between the genetic marker GeneticMarker2 and heart disease.\n",
    "# The higher the value of GeneticMarker2, the more likely a person is to have heart disease and vice versa.\n",
    "# Therefore the GeneticMarker2 column will be kept in."
   ]
  },
  {
   "cell_type": "markdown",
   "metadata": {},
   "source": [
    "#### MaxHR"
   ]
  },
  {
   "cell_type": "code",
   "execution_count": null,
   "metadata": {},
   "outputs": [],
   "source": [
    "# Explore the relation between MaxHR and HeartDisease.\n",
    "\n",
    "# Variable assignments.\n",
    "no_heart_disease_maxhr = df[df['HeartDisease'] == 0]['MaxHR']\n",
    "heart_disease_maxhr = df[df['HeartDisease'] == 1]['MaxHR']\n",
    "\n",
    "# Create a histogram.\n",
    "plt.hist([no_heart_disease_maxhr, heart_disease_maxhr], bins=bins, alpha=0.5, label=['No Heart Disease', 'Heart Disease'], color=['green', 'red'])\n",
    "# Add labels and title to the histogram.\n",
    "plt.gca().set(title='Histogram of MaxHR by Heart Disease', xlabel='MaxHR', ylabel='Frequency')\n",
    "# Add legend to the histogram.\n",
    "plt.legend()\n",
    "# Show the plot.\n",
    "plt.show()\n",
    "\n",
    "# There also seems to be a correlation between the MaxHR and heart disease. \n",
    "# The higher the value of MaxHR, the less likely a person is to have heart disease and vice versa."
   ]
  },
  {
   "cell_type": "code",
   "execution_count": null,
   "metadata": {},
   "outputs": [],
   "source": [
    "# Explore the relation between the Age and HeartDisease columns.\n",
    "\n",
    "# Variable assignments.\n",
    "heart_disease_age = df[df['HeartDisease'] == 1]['Age']\n",
    "no_heart_disease_age = df[df['HeartDisease'] == 0]['Age']\n",
    "\n",
    "# Create a histogram.\n",
    "plt.hist([no_heart_disease_age, heart_disease_age], bins=bins, alpha=0.5, label=['No Heart Disease', 'Heart Disease'], color=['green', 'red'])\n",
    "\n",
    "# Add labels and title to the histogram.\n",
    "plt.gca().set( title='Relation between Age and Heart Disease', xlabel='Age', ylabel='Frequency')\n",
    "\n",
    "# Add legend to the histogram.\n",
    "plt.legend()\n",
    "\n",
    "# Show the plot.\n",
    "plt.show()\n",
    "\n",
    "# From the looks of it, there seems to also be a relation between age and heart disease. \n",
    "# Older people seem to be more prone to heart disease."
   ]
  },
  {
   "cell_type": "markdown",
   "metadata": {},
   "source": [
    "--- End of Timon's part ---"
   ]
  },
  {
   "cell_type": "markdown",
   "metadata": {},
   "source": [
    "--- Start of Fadi's part ---"
   ]
  },
  {
   "cell_type": "markdown",
   "metadata": {},
   "source": [
    "### Categorical columns"
   ]
  },
  {
   "cell_type": "markdown",
   "metadata": {},
   "source": [
    "#### Sex"
   ]
  },
  {
   "cell_type": "code",
   "execution_count": null,
   "metadata": {},
   "outputs": [],
   "source": [
    "# Explore the relation between the Sex and HeartDisease columns.\n",
    "\n",
    "# Filter the dataframe for heart disease cases and non-heart disease cases for males and females.\n",
    "male_heart_disease = df[(df['HeartDisease'] == 1) & (df['Sex'] == 'M')]\n",
    "male_no_heart_disease = df[(df['HeartDisease'] == 0) & (df['Sex'] == 'M')]\n",
    "female_heart_disease = df[(df['HeartDisease'] == 1) & (df['Sex'] == 'F')]\n",
    "female_no_heart_disease = df[(df['HeartDisease'] == 0) & (df['Sex'] == 'F')]\n",
    "\n",
    "# Set the number of categories and the width of each bar.\n",
    "categories = ['No Heart Disease', 'Heart Disease']\n",
    "bar_width = 0.5\n",
    "\n",
    "# Set the x-axis positions for the bars.\n",
    "male_positions = [0, 1]\n",
    "female_positions = [x + bar_width for x in male_positions]\n",
    "\n",
    "# Set the heights of the bars.\n",
    "male_heights = [len(male_heart_disease), len(male_no_heart_disease)]\n",
    "female_heights = [len(female_heart_disease), len(female_no_heart_disease)]\n",
    "\n",
    "# Create the bar plot.\n",
    "plt.bar(male_positions, male_heights, bar_width, label='Male', color='blue')\n",
    "plt.bar(female_positions, female_heights, bar_width, label='Female', color='pink')\n",
    "\n",
    "# Add labels and title to the plot.\n",
    "plt.gca().set(title='Relation between sex and heart disease', xlabel='Heart Disease', ylabel='Frequency')\n",
    "\n",
    "# Add x-axis tick labels.\n",
    "plt.xticks([0.17, 1.17], categories)\n",
    "\n",
    "# Add legend to the plot.\n",
    "plt.legend()\n",
    "\n",
    "# Show the plot.\n",
    "plt.show()\n",
    "\n",
    "# There seems to be a very strong relation between sex and heart disease.\n",
    "# Check the amount of males vs females.\n",
    "print(\"Number of males:\", len(df[df['Sex'] == 'M']))\n",
    "print(\"Number of females:\", len(df[df['Sex'] == 'F']))\n",
    "# There are far more males than females. \n",
    "# This means we should start looking at relative numbers instead."
   ]
  },
  {
   "cell_type": "code",
   "execution_count": null,
   "metadata": {},
   "outputs": [],
   "source": [
    "# Calculate the total number of males and females.\n",
    "total_males = len(df[df['Sex'] == 'M'])\n",
    "total_females = len(df[df['Sex'] == 'F'])\n",
    "\n",
    "# Calculate the proportion of males and females with heart disease.\n",
    "male_heart_disease_prop = len(df[(df['HeartDisease'] == 1) & (df['Sex'] == 'M')]) / total_males\n",
    "female_heart_disease_prop = len(df[(df['HeartDisease'] == 1) & (df['Sex'] == 'F')]) / total_females\n",
    "\n",
    "# Set the number of categories and the width of each bar.\n",
    "categories = ['No Heart Disease', 'Heart Disease']\n",
    "bar_width = 0.35\n",
    "\n",
    "# Set the x-axis positions for the bars.\n",
    "male_positions = [0, 1]\n",
    "female_positions = [x + bar_width for x in male_positions]\n",
    "\n",
    "# Set the heights of the bars to the proportions instead of the absolute numbers.\n",
    "male_heights = [1 - male_heart_disease_prop, male_heart_disease_prop]\n",
    "female_heights = [1 - female_heart_disease_prop, female_heart_disease_prop]\n",
    "\n",
    "# Create the bar plot.\n",
    "plt.bar(male_positions, male_heights, bar_width, label='Male', color='blue')\n",
    "plt.bar(female_positions, female_heights, bar_width, label='Female', color='pink')\n",
    "\n",
    "# Add labels and title to the plot.\n",
    "plt.gca().set(title='Relative Relation between Sex and Heart Disease', xlabel='Heart Disease', ylabel='Proportion')\n",
    "\n",
    "# Add x-axis tick labels.\n",
    "plt.xticks([0.17, 1.17], categories)\n",
    "\n",
    "# Add legend to the plot.\n",
    "plt.legend()\n",
    "\n",
    "# Show the plot.\n",
    "plt.show()\n",
    "\n",
    "# After calculating the relative numbers, it is clear that there is indeed a strong relation between sex and heart disease.\n",
    "# Males are more prone to heart disease than females."
   ]
  },
  {
   "cell_type": "markdown",
   "metadata": {},
   "source": [
    "#### ChestPainType"
   ]
  },
  {
   "cell_type": "code",
   "execution_count": null,
   "metadata": {},
   "outputs": [],
   "source": [
    "# Explore the relation between the ChestPainType and HeartDisease columns.\n",
    "\n",
    "# To-do"
   ]
  },
  {
   "cell_type": "markdown",
   "metadata": {},
   "source": [
    "#### RestingECG"
   ]
  },
  {
   "cell_type": "code",
   "execution_count": null,
   "metadata": {},
   "outputs": [],
   "source": [
    "# Explore the relation between the RestingECG and HeartDisease columns.\n",
    "\n",
    "# To-do"
   ]
  },
  {
   "cell_type": "markdown",
   "metadata": {},
   "source": [
    "#### ST_Slope"
   ]
  },
  {
   "cell_type": "code",
   "execution_count": null,
   "metadata": {},
   "outputs": [],
   "source": [
    "# Explore the relation between the ST_Slope and HeartDisease columns.\n",
    "\n",
    "# To-do"
   ]
  },
  {
   "cell_type": "markdown",
   "metadata": {},
   "source": [
    "#### BodyWeightCategory"
   ]
  },
  {
   "cell_type": "code",
   "execution_count": null,
   "metadata": {},
   "outputs": [],
   "source": [
    "# Explore the relation between the BodyWeightCategory and HeartDisease columns.\n",
    "\n",
    "# Define the desired order of categories\n",
    "categories = ['Underweight', 'Normal', 'Overweight', 'Obese']\n",
    "\n",
    "# Filter the dataframe for heart disease cases and non-heart disease cases for different body weight categories.\n",
    "heart_disease = df[df['HeartDisease'] == 1]['BodyWeightCategory']\n",
    "no_heart_disease = df[df['HeartDisease'] == 0]['BodyWeightCategory']\n",
    "\n",
    "# Set the number of categories and the width of each bar.\n",
    "bar_width = 0.5\n",
    "\n",
    "# Set the x-axis positions for the bars based on the desired order.\n",
    "heart_disease_positions = range(len(categories))\n",
    "no_heart_disease_positions = [x - bar_width for x in heart_disease_positions]\n",
    "\n",
    "# Set the heights of the bars.\n",
    "heart_disease_heights = [len(heart_disease[heart_disease == category]) for category in categories]\n",
    "no_heart_disease_heights = [len(no_heart_disease[no_heart_disease == category]) for category in categories]\n",
    "\n",
    "# Create the bar plot.\n",
    "plt.bar(heart_disease_positions, heart_disease_heights, bar_width, label='Heart Disease', color='red')\n",
    "plt.bar(no_heart_disease_positions, no_heart_disease_heights, bar_width, label='No Heart Disease', color='green')\n",
    "\n",
    "# Add labels and title to the plot.\n",
    "plt.gca().set(xlabel='Body Weight Category', ylabel='Number of Cases', title='Comparison of Heart Disease Cases by Body Weight Category')\n",
    "\n",
    "# Add x-axis tick labels based on the desired order.\n",
    "plt.xticks([x for x in heart_disease_positions], categories)\n",
    "\n",
    "# Add legend to the plot.\n",
    "plt.legend()\n",
    "\n",
    "# Show the plot.\n",
    "plt.show()\n",
    "\n",
    "# The relation between BodyWeightCategory and HeartDisease seems rather unexpected.\n",
    "# The expected outcome would be that people with a higher body weight would be more prone to heart disease.\n",
    "# However, the histogram shows that weight seems to have no clear effect on heart disease.\n",
    "# Therefore the BodyWeightCategory column is eligible to be dropped."
   ]
  },
  {
   "cell_type": "code",
   "execution_count": null,
   "metadata": {},
   "outputs": [],
   "source": [
    "# Drop the columns that are not needed.\n",
    "\n",
    "df = df.drop(columns=['GeneticMarker1'])\n",
    "df = df.drop(columns=['BodyWeightCategory'])\n",
    "\n",
    "# Check the dataset after dropping the columns.\n",
    "df"
   ]
  },
  {
   "cell_type": "markdown",
   "metadata": {},
   "source": [
    "## Step 4 - Feature Engineering\n",
    "\n",
    "<sub>\n",
    "\n",
    "- Encode categorical variables using Dummy Encoding.\n",
    "\n",
    "</sub>"
   ]
  },
  {
   "cell_type": "code",
   "execution_count": null,
   "metadata": {},
   "outputs": [],
   "source": [
    "# Linear encoding.\n",
    "df['ExerciseAngina'].replace({'N':0, 'Y':1}, inplace=True)\n",
    "\n",
    "# Dummy encoding.\n",
    "df=pd.get_dummies(df, columns=['Sex', 'ChestPainType', 'RestingECG', 'ST_Slope'], dtype=int)\n",
    "# Check out the updated df.\n",
    "df"
   ]
  },
  {
   "cell_type": "markdown",
   "metadata": {},
   "source": [
    "--- End of Fadi's part ---"
   ]
  },
  {
   "cell_type": "markdown",
   "metadata": {},
   "source": [
    "--- Start of Alessandro's part ---"
   ]
  },
  {
   "cell_type": "markdown",
   "metadata": {},
   "source": [
    "## Step 5 - Model Training\n",
    "\n",
    "<sub>\n",
    "\n",
    "- Import necessary libraries for model training and evaluation\n",
    "- Split the dataset into training and testing sets.\n",
    "- Try these supervised learning algorithms (logistic regression, decision tree, random forest and SVM) and train a model to predict income.\n",
    "- Evaluate the performance of the models using accuracy.\n",
    "\n",
    "</sub>"
   ]
  },
  {
   "cell_type": "code",
   "execution_count": null,
   "metadata": {},
   "outputs": [],
   "source": [
    "# Import libraries for model training.\n",
    "from sklearn.linear_model import LogisticRegression\n",
    "from sklearn.tree import DecisionTreeClassifier\n",
    "from sklearn.svm import SVC\n",
    "from sklearn.svm import LinearSVC\n",
    "from sklearn.model_selection import train_test_split\n",
    "from sklearn.metrics import accuracy_score, recall_score, precision_score, f1_score\n",
    "\n",
    "# Split the dataset into features (X) and target variable (y).\n",
    "X = df.drop('HeartDisease', axis=1)\n",
    "y = df['HeartDisease']\n",
    "\n",
    "# Split the data into training and testing sets.\n",
    "X_train, X_test, y_train, y_test = train_test_split(X, y, test_size=0.2, random_state=42)\n",
    "# Tested with a few different test sizes but 0.2 seems to be the best option."
   ]
  },
  {
   "cell_type": "code",
   "execution_count": null,
   "metadata": {},
   "outputs": [],
   "source": [
    "# Train a LinearSVC model\n",
    "lsvc = LinearSVC(max_iter=10000, dual=False)\n",
    "lsvc.fit(X_train, y_train)\n",
    "\n",
    "# Make predictions on the test set\n",
    "lsvc_predictions = lsvc.predict(X_test)\n",
    "\n",
    "# Evaluate the performance of the model\n",
    "lsvc_accuracy = accuracy_score(y_test, lsvc_predictions)\n",
    "lsvc_precision = precision_score(y_test, lsvc_predictions)\n",
    "lsvc_recall = recall_score(y_test, lsvc_predictions)\n",
    "lsvc_f1 = f1_score(y_test, lsvc_predictions)\n",
    "\n",
    "print(f'LinearSVC Metrics:')\n",
    "print(f'Accuracy: {lsvc_accuracy}')\n",
    "print(f'Precision: {lsvc_precision}')\n",
    "print(f'Recall: {lsvc_recall}')\n",
    "print(f'F1 Score: {lsvc_f1}')"
   ]
  },
  {
   "cell_type": "code",
   "execution_count": null,
   "metadata": {},
   "outputs": [],
   "source": [
    "# Create and train the model.\n",
    "model_lr = LogisticRegression(max_iter=2000)\n",
    "model_lr.fit(X_train, y_train)\n",
    "\n",
    "# Make predictions.\n",
    "predictions_lr = model_lr.predict(X_test)\n",
    "\n",
    "# Evaluate the performance of the model.\n",
    "accuracy_lr = accuracy_score(y_test, predictions_lr)\n",
    "precision_lr = precision_score(y_test, predictions_lr)\n",
    "recall_lr = recall_score(y_test, predictions_lr)\n",
    "f1_lr = f1_score(y_test, predictions_lr)\n",
    "\n",
    "print(f'Logistic Regression Metrics:')\n",
    "print(f'Accuracy: {accuracy_lr}')\n",
    "print(f'Precision: {precision_lr}')\n",
    "print(f'Recall: {recall_lr}')\n",
    "print(f'F1 Score: {f1_lr}')"
   ]
  },
  {
   "cell_type": "code",
   "execution_count": null,
   "metadata": {},
   "outputs": [],
   "source": [
    "# Create and train the model.\n",
    "model_dt = DecisionTreeClassifier()\n",
    "model_dt.fit(X_train, y_train)\n",
    "\n",
    "# Make predictions.\n",
    "predictions_dt = model_dt.predict(X_test)\n",
    "\n",
    "# Evaluate the performance of the model.\n",
    "accuracy_dt = accuracy_score(y_test, predictions_dt)\n",
    "precision_dt = precision_score(y_test, predictions_dt)\n",
    "recall_dt = recall_score(y_test, predictions_dt)\n",
    "f1_dt = f1_score(y_test, predictions_dt)\n",
    "\n",
    "print(f'Decision Tree Metrics:')\n",
    "print(f'Accuracy: {accuracy_dt}')\n",
    "print(f'Precision: {precision_dt}')\n",
    "print(f'Recall: {recall_dt}')\n",
    "print(f'F1 Score: {f1_dt}')"
   ]
  },
  {
   "cell_type": "code",
   "execution_count": null,
   "metadata": {},
   "outputs": [],
   "source": [
    "# Create and train the model.\n",
    "model_svm = SVC()\n",
    "model_svm.fit(X_train, y_train)\n",
    "\n",
    "# Make predictions.\n",
    "predictions_svm = model_svm.predict(X_test)\n",
    "\n",
    "# Evaluate the performance of the model.\n",
    "accuracy_svm = accuracy_score(y_test, predictions_svm)\n",
    "precision_svm = precision_score(y_test, predictions_svm)\n",
    "recall_svm = recall_score(y_test, predictions_svm)\n",
    "f1_svm = f1_score(y_test, predictions_svm)\n",
    "\n",
    "print(f'SVM Metrics:')\n",
    "print(f'Accuracy: {accuracy_svm}')\n",
    "print(f'Precision: {precision_svm}')\n",
    "print(f'Recall: {recall_svm}')\n",
    "print(f'F1 Score: {f1_svm}')"
   ]
  },
  {
   "cell_type": "code",
   "execution_count": null,
   "metadata": {},
   "outputs": [],
   "source": [
    "# Define the hyperparameter grid for Logistic Regression.\n",
    "param_grid_lr = {\n",
    "    'solver': ['lbfgs', 'liblinear', 'newton-cg', 'newton-cholesky', 'sag', 'saga'],\n",
    "    'C': [0.1, 1, 10],\n",
    "    'max_iter': [2000, 2500, 3000]\n",
    "}\n",
    "\n",
    "# Import the necessary library for hyperparameter tuning.\n",
    "from sklearn.model_selection import GridSearchCV\n",
    "\n",
    "# Create a Logistic Regression model.\n",
    "model_lr = LogisticRegression()\n",
    "\n",
    "# Perform GridSearchCV to find the best hyperparameters.\n",
    "grid_search_lr = GridSearchCV(model_lr, param_grid_lr, cv=5)\n",
    "grid_search_lr.fit(X_train, y_train)\n",
    "\n",
    "# Print the best hyperparameters found by GridSearchCV.\n",
    "print(\"Best hyperparameters:\", grid_search_lr.best_params_)\n",
    "\n",
    "# Evaluate the performance of the best model on the test set.\n",
    "best_model_lr = grid_search_lr.best_estimator_\n",
    "accuracy_best_lr = best_model_lr.score(X_test, y_test)\n",
    "print(\"Accuracy on test set:\", accuracy_best_lr)"
   ]
  },
  {
   "cell_type": "code",
   "execution_count": null,
   "metadata": {},
   "outputs": [],
   "source": [
    "# Define the hyperparameter grid for Decision Tree.\n",
    "param_grid_dt = {\n",
    "    'criterion': ['gini', 'entropy'],\n",
    "    'max_depth': [None, 5, 10, 15, 20]\n",
    "}\n",
    "\n",
    "# Import the necessary library for hyperparameter tuning.\n",
    "from sklearn.model_selection import GridSearchCV\n",
    "\n",
    "# Create a Decision Tree model.\n",
    "model_dt = DecisionTreeClassifier()\n",
    "\n",
    "# Perform GridSearchCV to find the best hyperparameters.\n",
    "grid_search_dt = GridSearchCV(model_dt, param_grid_dt, cv=5)\n",
    "grid_search_dt.fit(X_train, y_train)\n",
    "\n",
    "# Print the best hyperparameters found by GridSearchCV.\n",
    "print(\"Best hyperparameters:\", grid_search_dt.best_params_)\n",
    "\n",
    "# Evaluate the performance of the best model on the test set.\n",
    "best_model_dt = grid_search_dt.best_estimator_\n",
    "accuracy_best_dt = best_model_dt.score(X_test, y_test)\n",
    "print(\"Accuracy on test set:\", accuracy_best_dt)"
   ]
  },
  {
   "cell_type": "markdown",
   "metadata": {},
   "source": [
    "--- End of Alessandro's part ---"
   ]
  }
 ],
 "metadata": {
  "kernelspec": {
   "display_name": "Python 3 (ipykernel)",
   "language": "python",
   "name": "python3"
  },
  "language_info": {
   "codemirror_mode": {
    "name": "ipython",
    "version": 3
   },
   "file_extension": ".py",
   "mimetype": "text/x-python",
   "name": "python",
   "nbconvert_exporter": "python",
   "pygments_lexer": "ipython3",
   "version": "3.11.5"
  }
 },
 "nbformat": 4,
 "nbformat_minor": 4
}
